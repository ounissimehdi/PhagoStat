{
 "cells": [
  {
   "cell_type": "code",
   "execution_count": 1,
   "metadata": {},
   "outputs": [],
   "source": [
    "from skimage.measure import regionprops, label\n",
    "import matplotlib.pyplot as plt\n",
    "import matplotlib\n",
    "from natsort import natsorted\n",
    "from glob import glob\n",
    "from PIL import Image\n",
    "import os\n",
    "import numpy as np\n",
    "from numba import jit\n",
    "from scipy.optimize import linear_sum_assignment\n",
    "from scipy.ndimage import convolve, mean\n",
    "from tqdm import trange\n",
    "\n",
    "def mask_ious(masks_true, masks_pred):\n",
    "    \"\"\" return best-matched masks \"\"\"\n",
    "    iou = _intersection_over_union(masks_true, masks_pred)[1:,1:]\n",
    "    n_min = min(iou.shape[0], iou.shape[1])\n",
    "    costs = -(iou >= 0.5).astype(float) - iou / (2*n_min)\n",
    "    true_ind, pred_ind = linear_sum_assignment(costs)\n",
    "    iout = np.zeros(masks_true.max())\n",
    "    iout[true_ind] = iou[true_ind,pred_ind]\n",
    "    preds = np.zeros(masks_true.max(), 'int')\n",
    "    preds[true_ind] = pred_ind+1\n",
    "    return iout, preds\n",
    "\n",
    "\n",
    "def aggregated_jaccard_index(masks_true, masks_pred):\n",
    "    \"\"\" AJI = intersection of all matched masks / union of all masks \n",
    "    \n",
    "    Parameters\n",
    "    ------------\n",
    "    \n",
    "    masks_true: list of ND-arrays (int) or ND-array (int) \n",
    "        where 0=NO masks; 1,2... are mask labels\n",
    "    masks_pred: list of ND-arrays (int) or ND-array (int) \n",
    "        ND-array (int) where 0=NO masks; 1,2... are mask labels\n",
    "    Returns\n",
    "    ------------\n",
    "    aji : aggregated jaccard index for each set of masks\n",
    "    \"\"\"\n",
    "\n",
    "    aji = np.zeros(len(masks_true))\n",
    "    for n in range(len(masks_true)):\n",
    "        iout, preds = mask_ious(masks_true[n], masks_pred[n])\n",
    "        inds = np.arange(0, masks_true[n].max(), 1, int)\n",
    "        overlap = _label_overlap(masks_true[n], masks_pred[n])\n",
    "        union = np.logical_or(masks_true[n]>0, masks_pred[n]>0).sum()\n",
    "        overlap = overlap[inds[preds>0]+1, preds[preds>0].astype(int)]\n",
    "        aji[n] = overlap.sum() / union\n",
    "    return aji \n",
    "\n",
    "def dice_score(true_mask, bn_mask, eps=0.00001):\n",
    "    true_mask = 1*(true_mask>0)\n",
    "    bn_mask   = 1*(bn_mask>0)\n",
    "\n",
    "    # Computing intersection and union masks\n",
    "    inter_mask = np.dot(bn_mask.flatten(), true_mask.flatten())\n",
    "    union_mask = np.sum(bn_mask) + np.sum(true_mask) + eps\n",
    "\n",
    "    # Computing the Dice coefficient\n",
    "    return (2 * inter_mask + eps) / union_mask\n",
    "\n",
    "def eval_metrics(masks_true, masks_pred, threshold=[0.5, 0.75, 0.9]):\n",
    "    \"\"\" average precision estimation: AP = TP / (TP + FP + FN)\n",
    "    This function is based heavily on the *fast* stardist matching functions\n",
    "    (https://github.com/mpicbg-csbd/stardist/blob/master/stardist/matching.py)\n",
    "    Parameters\n",
    "    ------------\n",
    "    \n",
    "    masks_true: list of ND-arrays (int) or ND-array (int) \n",
    "        where 0=NO masks; 1,2... are mask labels\n",
    "    masks_pred: list of ND-arrays (int) or ND-array (int) \n",
    "        ND-array (int) where 0=NO masks; 1,2... are mask labels\n",
    "    Returns\n",
    "    ------------\n",
    "    ap: array [len(masks_true) x len(threshold)]\n",
    "        average precision at thresholds\n",
    "    tp: array [len(masks_true) x len(threshold)]\n",
    "        number of true positives at thresholds\n",
    "    fp: array [len(masks_true) x len(threshold)]\n",
    "        number of false positives at thresholds\n",
    "    fn: array [len(masks_true) x len(threshold)]\n",
    "        number of false negatives at thresholds\n",
    "    \"\"\"\n",
    "    not_list = False\n",
    "    if not isinstance(masks_true, list):\n",
    "        masks_true = [masks_true]\n",
    "        masks_pred = [masks_pred]\n",
    "        not_list = True\n",
    "    if not isinstance(threshold, list) and not isinstance(threshold, np.ndarray):\n",
    "        threshold = [threshold]\n",
    "    \n",
    "    if len(masks_true) != len(masks_pred):\n",
    "        raise ValueError('metrics.average_precision requires len(masks_true)==len(masks_pred)')\n",
    "\n",
    "    f1  = np.zeros((len(masks_true), len(threshold)), np.float32)\n",
    "    tp  = np.zeros((len(masks_true), len(threshold)), np.float32)\n",
    "    fp  = np.zeros((len(masks_true), len(threshold)), np.float32)\n",
    "    fn  = np.zeros((len(masks_true), len(threshold)), np.float32)\n",
    "\n",
    "    accuracy  = np.zeros((len(masks_true), len(threshold)), np.float32)\n",
    "    precision = np.zeros((len(masks_true), len(threshold)), np.float32)\n",
    "    recall    = np.zeros((len(masks_true), len(threshold)), np.float32)\n",
    "\n",
    "    n_true = np.array(list(map(np.max, masks_true)))\n",
    "    n_pred = np.array(list(map(np.max, masks_pred)))\n",
    "    dice = []\n",
    "    miou = []\n",
    "\n",
    "    for n in range(len(masks_true)):\n",
    "        tmp_dice = dice_score(masks_true[n], masks_pred[n])\n",
    "\n",
    "        #_,mt = np.reshape(np.unique(masks_true[n], return_index=True), masks_pred[n].shape)\n",
    "        if n_pred[n] > 0:\n",
    "            iou = _intersection_over_union(masks_true[n], masks_pred[n])[1:, 1:]\n",
    "            iou_arranged = arrange_iou(iou)\n",
    "            miou.append(np.sum(iou_arranged)/ np.max(masks_true[n]))\n",
    "            for k,th in enumerate(threshold):\n",
    "                tp[n,k] = _true_positive(iou, th)\n",
    "        fp[n] = n_pred[n] - tp[n]\n",
    "        fn[n] = n_true[n] - tp[n]\n",
    "\n",
    "        # Computing F1 score\n",
    "        f1[n] = 2 * tp[n] / (2 * tp[n] + fp[n] + fn[n])\n",
    "        # Computing the precision\n",
    "        precision[n] =  tp[n] / (tp[n] + fp[n])\n",
    "\n",
    "        # Computing the recall\n",
    "        recall[n]    =  tp[n] / (tp[n] + fn[n])\n",
    "\n",
    "        # Computing accuracy\n",
    "        accuracy[n] = tp[n] / (tp[n] + fp[n] + fn[n])  \n",
    "\n",
    "        dice.append(tmp_dice)\n",
    "    dice = np.mean(dice)\n",
    "    miou = np.mean(miou) \n",
    "    if not_list:\n",
    "        miou, dice, f1, accuracy, precision, recall = miou[0], dice[0], f1[0], accuracy[0], precision[0], recall[0]#tp[0], fp[0], fn[0]\n",
    "    return miou, dice, f1, accuracy, precision, recall #tp, fp, fn\n",
    "\n",
    "@jit(nopython=True)\n",
    "def _label_overlap(x, y):\n",
    "    \"\"\" fast function to get pixel overlaps between masks in x and y \n",
    "    \n",
    "    Parameters\n",
    "    ------------\n",
    "    x: ND-array, int\n",
    "        where 0=NO masks; 1,2... are mask labels\n",
    "    y: ND-array, int\n",
    "        where 0=NO masks; 1,2... are mask labels\n",
    "    Returns\n",
    "    ------------\n",
    "    overlap: ND-array, int\n",
    "        matrix of pixel overlaps of size [x.max()+1, y.max()+1]\n",
    "    \n",
    "    \"\"\"\n",
    "    # put label arrays into standard form then flatten them \n",
    "#     x = (utils.format_labels(x)).ravel()\n",
    "#     y = (utils.format_labels(y)).ravel()\n",
    "    x = x.ravel()\n",
    "    y = y.ravel()\n",
    "    \n",
    "    # preallocate a 'contact map' matrix\n",
    "    overlap = np.zeros((1+x.max(),1+y.max()), dtype=np.uint)\n",
    "    \n",
    "    # loop over the labels in x and add to the corresponding\n",
    "    # overlap entry. If label A in x and label B in y share P\n",
    "    # pixels, then the resulting overlap is P\n",
    "    # len(x)=len(y), the number of pixels in the whole image \n",
    "    for i in range(len(x)):\n",
    "        overlap[x[i],y[i]] += 1\n",
    "    return overlap\n",
    "\n",
    "def _intersection_over_union(masks_true, masks_pred):\n",
    "    \"\"\" intersection over union of all mask pairs\n",
    "    \n",
    "    Parameters\n",
    "    ------------\n",
    "    \n",
    "    masks_true: ND-array, int \n",
    "        ground truth masks, where 0=NO masks; 1,2... are mask labels\n",
    "    masks_pred: ND-array, int\n",
    "        predicted masks, where 0=NO masks; 1,2... are mask labels\n",
    "    Returns\n",
    "    ------------\n",
    "    iou: ND-array, float\n",
    "        matrix of IOU pairs of size [x.max()+1, y.max()+1]\n",
    "    \n",
    "    ------------\n",
    "    How it works:\n",
    "        The overlap matrix is a lookup table of the area of intersection\n",
    "        between each set of labels (true and predicted). The true labels\n",
    "        are taken to be along axis 0, and the predicted labels are taken \n",
    "        to be along axis 1. The sum of the overlaps along axis 0 is thus\n",
    "        an array giving the total overlap of the true labels with each of\n",
    "        the predicted labels, and likewise the sum over axis 1 is the\n",
    "        total overlap of the predicted labels with each of the true labels.\n",
    "        Because the label 0 (background) is included, this sum is guaranteed\n",
    "        to reconstruct the total area of each label. Adding this row and\n",
    "        column vectors gives a 2D array with the areas of every label pair\n",
    "        added together. This is equivalent to the union of the label areas\n",
    "        except for the duplicated overlap area, so the overlap matrix is\n",
    "        subtracted to find the union matrix. \n",
    "    \"\"\"\n",
    "    overlap = _label_overlap(masks_true, masks_pred)\n",
    "    n_pixels_pred = np.sum(overlap, axis=0, keepdims=True)\n",
    "    n_pixels_true = np.sum(overlap, axis=1, keepdims=True)\n",
    "    iou = overlap / (n_pixels_pred + n_pixels_true - overlap)\n",
    "    iou[np.isnan(iou)] = 0.0\n",
    "    return iou\n",
    "\n",
    "def _true_positive(iou, th):\n",
    "    \"\"\" true positive at threshold th\n",
    "    \n",
    "    Parameters\n",
    "    ------------\n",
    "    iou: float, ND-array\n",
    "        array of IOU pairs\n",
    "    th: float\n",
    "        threshold on IOU for positive label\n",
    "    Returns\n",
    "    ------------\n",
    "    tp: float\n",
    "        number of true positives at threshold\n",
    "        \n",
    "    ------------\n",
    "    How it works:\n",
    "        (1) Find minimum number of masks\n",
    "        (2) Define cost matrix; for a given threshold, each element is negative\n",
    "            the higher the IoU is (perfect IoU is 1, worst is 0). The second term\n",
    "            gets more negative with higher IoU, but less negative with greater\n",
    "            n_min (but that's a constant...)\n",
    "        (3) Solve the linear sum assignment problem. The costs array defines the cost\n",
    "            of matching a true label with a predicted label, so the problem is to \n",
    "            find the set of pairings that minimizes this cost. The scipy.optimize\n",
    "            function gives the ordered lists of corresponding true and predicted labels. \n",
    "        (4) Extract the IoUs fro these parings and then threshold to get a boolean array\n",
    "            whose sum is the number of true positives that is returned. \n",
    "    \"\"\"\n",
    "    n_min = min(iou.shape[0], iou.shape[1])\n",
    "    costs = -(iou >= th).astype(float) - iou / (2*n_min)\n",
    "    true_ind, pred_ind = linear_sum_assignment(costs)\n",
    "    match_ok = iou[true_ind, pred_ind] >= th\n",
    "    tp = match_ok.sum()\n",
    "    # print('tp : ', tp)\n",
    "    return tp\n",
    "\n",
    "def arrange_iou(iou):\n",
    "    n_min = min(iou.shape[0], iou.shape[1])\n",
    "    costs = -(iou >= 0.1).astype(float) - iou / (2*n_min)\n",
    "    true_ind, pred_ind = linear_sum_assignment(costs)\n",
    "    return iou[true_ind, pred_ind]"
   ]
  },
  {
   "cell_type": "code",
   "execution_count": 2,
   "metadata": {},
   "outputs": [
    {
     "name": "stderr",
     "output_type": "stream",
     "text": [
      "100%|██████████| 8/8 [06:53<00:00, 51.72s/it]\n"
     ]
    }
   ],
   "source": [
    "methods = ['cellpose', 'stardist','LSTM_bionet','XAI_bionet', 'LSTM_attunet','XAI_attunet', 'LSTM_unet','XAI_unet']\n",
    "show_methods = ['Cellpose', 'Stardist','BioNet-LSTM','BioNet(XAI)', 'AttUNet-LSTM','AttUNet(XAI)', 'UNet-LSTM','UNet(XAI)']\n",
    "\n",
    "my_dict_f1   = {\"methods\":[],\"IoU threshold\":[],\"F1 score\":[], \"F1 score (std)\":[],\"Accuracy score\":[], \"Accuracy score (std)\":[],\"Precision score\":[], \"Precision score (std)\":[],\"Recall score\":[], \"Recall score (std)\":[]};\n",
    "my_dict_miou = {\"methods\":[],\"mIoU (mean)\":[], \"mIoU (std)\":[], \"Dice (mean)\":[], \"Dice (std)\":[]};\n",
    "\n",
    "thresholds = [0.5, 0.55, 0.6, 0.65, 0.7, 0.75, 0.8, 0.85, 0.9, 0.95, 1]\n",
    "\n",
    "\n",
    "for m in trange(len(methods)):\n",
    "    # print(show_methods[m])\n",
    "    mIoU_list, dice_list, f1_list, std_f1_list, acc_list, std_acc_list, pres_list, std_pres_list, rec_list, std_rec_list = [], [], [], [], [], [], [], [], [], []\n",
    "    for fold in range(1,6):\n",
    "        gt_masks = natsorted(glob(os.path.join('dataset', 'microglial_cells_test_sequences_1024', '*', '*_binary_mask.tif')))\n",
    "        xai_unet_preds = natsorted(glob(os.path.join(methods[m], 'results', 'FOLD-'+str(fold), '*', '*.tif')))\n",
    "\n",
    "        masks_true, masks_pred = [], []\n",
    "        for i in range(len(gt_masks)):\n",
    "\n",
    "            masks_true.append(label(np.array(Image.open(gt_masks[i]))))\n",
    "            masks_pred.append(np.array(Image.open(xai_unet_preds[i])))\n",
    "            \n",
    "        mIoU, dice, f1, accuracy, precision, recall = eval_metrics(masks_true, masks_pred, threshold=thresholds)\n",
    "\n",
    "        mIoU_list.append(mIoU)\n",
    "        dice_list.append(dice)\n",
    "        f1_list.append(np.mean(f1, axis=0))\n",
    "        acc_list.append(np.mean(accuracy, axis=0))\n",
    "        pres_list.append(np.mean(precision, axis=0))\n",
    "        rec_list.append(np.mean(recall, axis=0))\n",
    "\n",
    "    f1_list_tmp = np.mean(f1_list, axis=0)\n",
    "    std_f1_list = np.std(f1_list, axis=0)\n",
    "\n",
    "    acc_list_tmp = np.mean(acc_list, axis=0)\n",
    "    std_acc_list = np.std(acc_list, axis=0)\n",
    "\n",
    "    pres_list_tmp = np.mean(pres_list, axis=0)\n",
    "    std_pres_list = np.std(pres_list, axis=0)\n",
    "\n",
    "    rec_list_tmp = np.mean(rec_list, axis=0)\n",
    "    std_rec_list = np.std(rec_list, axis=0)\n",
    "\n",
    "    for k in range(len(f1_list_tmp)):\n",
    "        my_dict_f1[\"methods\"].append(show_methods[m])\n",
    "        my_dict_f1[\"IoU threshold\"].append(thresholds[k])\n",
    "\n",
    "        my_dict_f1[\"F1 score\"].append(round(f1_list_tmp[k]*100,2))\n",
    "        my_dict_f1[\"F1 score (std)\"].append(round(std_f1_list[k]*100,2))\n",
    "\n",
    "        my_dict_f1[\"Accuracy score\"].append(round(acc_list_tmp[k]*100,2))\n",
    "        my_dict_f1[\"Accuracy score (std)\"].append(round(std_acc_list[k]*100,2))\n",
    "\n",
    "        my_dict_f1[\"Precision score\"].append(round(pres_list_tmp[k]*100,2))\n",
    "        my_dict_f1[\"Precision score (std)\"].append(round(std_pres_list[k]*100,2))\n",
    "\n",
    "        my_dict_f1[\"Recall score\"].append(round(rec_list_tmp[k]*100,2))\n",
    "        my_dict_f1[\"Recall score (std)\"].append(round(std_rec_list[k]*100,2))\n",
    "    \n",
    "    my_dict_miou[\"methods\"].append(show_methods[m])\n",
    "    my_dict_miou[\"mIoU (mean)\"].append(round(np.mean(mIoU_list)*100,2))\n",
    "    my_dict_miou[\"mIoU (std)\"].append(round(np.std(mIoU_list)*100,2))\n",
    "    my_dict_miou[\"Dice (mean)\"].append(round(np.mean(dice_list)*100,2))\n",
    "    my_dict_miou[\"Dice (std)\"].append(round(np.std(dice_list)*100,2))\n"
   ]
  },
  {
   "cell_type": "code",
   "execution_count": 3,
   "metadata": {},
   "outputs": [],
   "source": [
    "import pandas as pd\n",
    "\n",
    "df_metrics_f1 = pd.DataFrame.from_dict(my_dict_f1)\n",
    "df_metrics_f1.to_csv('f1_metrics.csv')\n",
    "\n",
    "\n",
    "df_metrics_miou = pd.DataFrame.from_dict(my_dict_miou)\n",
    "df_metrics_miou.to_csv('miou_metrics.csv')"
   ]
  },
  {
   "cell_type": "code",
   "execution_count": 4,
   "metadata": {},
   "outputs": [],
   "source": [
    "import pandas as pd\n",
    "\n",
    "df_metrics_f1    = pd.read_csv('f1_metrics.csv')\n",
    "df_metrics_miou  = pd.read_csv('miou_metrics.csv')\n",
    "df_metrics_exe_time = pd.read_csv('execution_time_metrics.csv')"
   ]
  },
  {
   "cell_type": "code",
   "execution_count": 5,
   "metadata": {},
   "outputs": [
    {
     "data": {
      "text/html": [
       "<div>\n",
       "<style scoped>\n",
       "    .dataframe tbody tr th:only-of-type {\n",
       "        vertical-align: middle;\n",
       "    }\n",
       "\n",
       "    .dataframe tbody tr th {\n",
       "        vertical-align: top;\n",
       "    }\n",
       "\n",
       "    .dataframe thead th {\n",
       "        text-align: right;\n",
       "    }\n",
       "</style>\n",
       "<table border=\"1\" class=\"dataframe\">\n",
       "  <thead>\n",
       "    <tr style=\"text-align: right;\">\n",
       "      <th></th>\n",
       "      <th>Unnamed: 0</th>\n",
       "      <th>methods</th>\n",
       "      <th>IoU threshold</th>\n",
       "      <th>F1 score</th>\n",
       "      <th>F1 score (std)</th>\n",
       "      <th>Accuracy score</th>\n",
       "      <th>Accuracy score (std)</th>\n",
       "      <th>Precision score</th>\n",
       "      <th>Precision score (std)</th>\n",
       "      <th>Recall score</th>\n",
       "      <th>Recall score (std)</th>\n",
       "    </tr>\n",
       "  </thead>\n",
       "  <tbody>\n",
       "    <tr>\n",
       "      <th>0</th>\n",
       "      <td>0</td>\n",
       "      <td>Cellpose</td>\n",
       "      <td>0.5</td>\n",
       "      <td>83.35</td>\n",
       "      <td>1.41</td>\n",
       "      <td>72.22</td>\n",
       "      <td>1.99</td>\n",
       "      <td>91.30</td>\n",
       "      <td>1.75</td>\n",
       "      <td>77.09</td>\n",
       "      <td>1.24</td>\n",
       "    </tr>\n",
       "    <tr>\n",
       "      <th>11</th>\n",
       "      <td>11</td>\n",
       "      <td>Stardist</td>\n",
       "      <td>0.5</td>\n",
       "      <td>85.82</td>\n",
       "      <td>0.93</td>\n",
       "      <td>76.04</td>\n",
       "      <td>1.31</td>\n",
       "      <td>94.80</td>\n",
       "      <td>0.15</td>\n",
       "      <td>78.95</td>\n",
       "      <td>1.47</td>\n",
       "    </tr>\n",
       "    <tr>\n",
       "      <th>22</th>\n",
       "      <td>22</td>\n",
       "      <td>BioNet-LSTM</td>\n",
       "      <td>0.5</td>\n",
       "      <td>80.25</td>\n",
       "      <td>5.41</td>\n",
       "      <td>68.44</td>\n",
       "      <td>7.01</td>\n",
       "      <td>90.83</td>\n",
       "      <td>2.88</td>\n",
       "      <td>72.73</td>\n",
       "      <td>7.44</td>\n",
       "    </tr>\n",
       "    <tr>\n",
       "      <th>33</th>\n",
       "      <td>33</td>\n",
       "      <td>BioNet(XAI)</td>\n",
       "      <td>0.5</td>\n",
       "      <td>81.43</td>\n",
       "      <td>4.13</td>\n",
       "      <td>70.09</td>\n",
       "      <td>5.33</td>\n",
       "      <td>88.67</td>\n",
       "      <td>3.67</td>\n",
       "      <td>75.99</td>\n",
       "      <td>5.95</td>\n",
       "    </tr>\n",
       "    <tr>\n",
       "      <th>44</th>\n",
       "      <td>44</td>\n",
       "      <td>AttUNet-LSTM</td>\n",
       "      <td>0.5</td>\n",
       "      <td>86.12</td>\n",
       "      <td>2.52</td>\n",
       "      <td>76.73</td>\n",
       "      <td>3.54</td>\n",
       "      <td>92.20</td>\n",
       "      <td>3.20</td>\n",
       "      <td>81.33</td>\n",
       "      <td>2.72</td>\n",
       "    </tr>\n",
       "    <tr>\n",
       "      <th>55</th>\n",
       "      <td>55</td>\n",
       "      <td>AttUNet(XAI)</td>\n",
       "      <td>0.5</td>\n",
       "      <td>86.53</td>\n",
       "      <td>1.64</td>\n",
       "      <td>77.00</td>\n",
       "      <td>2.47</td>\n",
       "      <td>89.00</td>\n",
       "      <td>2.63</td>\n",
       "      <td>84.53</td>\n",
       "      <td>1.55</td>\n",
       "    </tr>\n",
       "    <tr>\n",
       "      <th>66</th>\n",
       "      <td>66</td>\n",
       "      <td>UNet-LSTM</td>\n",
       "      <td>0.5</td>\n",
       "      <td>86.90</td>\n",
       "      <td>1.80</td>\n",
       "      <td>77.72</td>\n",
       "      <td>2.53</td>\n",
       "      <td>93.47</td>\n",
       "      <td>1.61</td>\n",
       "      <td>81.66</td>\n",
       "      <td>2.20</td>\n",
       "    </tr>\n",
       "    <tr>\n",
       "      <th>77</th>\n",
       "      <td>77</td>\n",
       "      <td>UNet(XAI)</td>\n",
       "      <td>0.5</td>\n",
       "      <td>85.44</td>\n",
       "      <td>2.12</td>\n",
       "      <td>75.72</td>\n",
       "      <td>2.92</td>\n",
       "      <td>87.95</td>\n",
       "      <td>2.87</td>\n",
       "      <td>83.56</td>\n",
       "      <td>2.46</td>\n",
       "    </tr>\n",
       "  </tbody>\n",
       "</table>\n",
       "</div>"
      ],
      "text/plain": [
       "    Unnamed: 0       methods  IoU threshold  F1 score  F1 score (std)  \\\n",
       "0            0      Cellpose            0.5     83.35            1.41   \n",
       "11          11      Stardist            0.5     85.82            0.93   \n",
       "22          22   BioNet-LSTM            0.5     80.25            5.41   \n",
       "33          33   BioNet(XAI)            0.5     81.43            4.13   \n",
       "44          44  AttUNet-LSTM            0.5     86.12            2.52   \n",
       "55          55  AttUNet(XAI)            0.5     86.53            1.64   \n",
       "66          66     UNet-LSTM            0.5     86.90            1.80   \n",
       "77          77     UNet(XAI)            0.5     85.44            2.12   \n",
       "\n",
       "    Accuracy score  Accuracy score (std)  Precision score  \\\n",
       "0            72.22                  1.99            91.30   \n",
       "11           76.04                  1.31            94.80   \n",
       "22           68.44                  7.01            90.83   \n",
       "33           70.09                  5.33            88.67   \n",
       "44           76.73                  3.54            92.20   \n",
       "55           77.00                  2.47            89.00   \n",
       "66           77.72                  2.53            93.47   \n",
       "77           75.72                  2.92            87.95   \n",
       "\n",
       "    Precision score (std)  Recall score  Recall score (std)  \n",
       "0                    1.75         77.09                1.24  \n",
       "11                   0.15         78.95                1.47  \n",
       "22                   2.88         72.73                7.44  \n",
       "33                   3.67         75.99                5.95  \n",
       "44                   3.20         81.33                2.72  \n",
       "55                   2.63         84.53                1.55  \n",
       "66                   1.61         81.66                2.20  \n",
       "77                   2.87         83.56                2.46  "
      ]
     },
     "execution_count": 5,
     "metadata": {},
     "output_type": "execute_result"
    }
   ],
   "source": [
    "df_metrics_f1.loc[df_metrics_f1['IoU threshold'] == 0.5]"
   ]
  },
  {
   "cell_type": "code",
   "execution_count": 6,
   "metadata": {},
   "outputs": [
    {
     "data": {
      "text/html": [
       "<div>\n",
       "<style scoped>\n",
       "    .dataframe tbody tr th:only-of-type {\n",
       "        vertical-align: middle;\n",
       "    }\n",
       "\n",
       "    .dataframe tbody tr th {\n",
       "        vertical-align: top;\n",
       "    }\n",
       "\n",
       "    .dataframe thead th {\n",
       "        text-align: right;\n",
       "    }\n",
       "</style>\n",
       "<table border=\"1\" class=\"dataframe\">\n",
       "  <thead>\n",
       "    <tr style=\"text-align: right;\">\n",
       "      <th></th>\n",
       "      <th>Unnamed: 0</th>\n",
       "      <th>methods</th>\n",
       "      <th>mIoU (mean)</th>\n",
       "      <th>mIoU (std)</th>\n",
       "      <th>Dice (mean)</th>\n",
       "      <th>Dice (std)</th>\n",
       "    </tr>\n",
       "  </thead>\n",
       "  <tbody>\n",
       "    <tr>\n",
       "      <th>0</th>\n",
       "      <td>0</td>\n",
       "      <td>Cellpose</td>\n",
       "      <td>63.85</td>\n",
       "      <td>1.39</td>\n",
       "      <td>84.51</td>\n",
       "      <td>1.16</td>\n",
       "    </tr>\n",
       "    <tr>\n",
       "      <th>1</th>\n",
       "      <td>1</td>\n",
       "      <td>Stardist</td>\n",
       "      <td>66.21</td>\n",
       "      <td>0.96</td>\n",
       "      <td>87.86</td>\n",
       "      <td>0.52</td>\n",
       "    </tr>\n",
       "    <tr>\n",
       "      <th>2</th>\n",
       "      <td>2</td>\n",
       "      <td>BioNet-LSTM</td>\n",
       "      <td>63.94</td>\n",
       "      <td>6.48</td>\n",
       "      <td>92.20</td>\n",
       "      <td>2.78</td>\n",
       "    </tr>\n",
       "    <tr>\n",
       "      <th>3</th>\n",
       "      <td>3</td>\n",
       "      <td>BioNet(XAI)</td>\n",
       "      <td>65.94</td>\n",
       "      <td>5.31</td>\n",
       "      <td>91.24</td>\n",
       "      <td>2.66</td>\n",
       "    </tr>\n",
       "    <tr>\n",
       "      <th>4</th>\n",
       "      <td>4</td>\n",
       "      <td>AttUNet-LSTM</td>\n",
       "      <td>71.17</td>\n",
       "      <td>2.77</td>\n",
       "      <td>91.87</td>\n",
       "      <td>2.60</td>\n",
       "    </tr>\n",
       "    <tr>\n",
       "      <th>5</th>\n",
       "      <td>5</td>\n",
       "      <td>AttUNet(XAI)</td>\n",
       "      <td>73.55</td>\n",
       "      <td>1.41</td>\n",
       "      <td>93.77</td>\n",
       "      <td>0.34</td>\n",
       "    </tr>\n",
       "    <tr>\n",
       "      <th>6</th>\n",
       "      <td>6</td>\n",
       "      <td>UNet-LSTM</td>\n",
       "      <td>72.23</td>\n",
       "      <td>1.95</td>\n",
       "      <td>94.04</td>\n",
       "      <td>0.28</td>\n",
       "    </tr>\n",
       "    <tr>\n",
       "      <th>7</th>\n",
       "      <td>7</td>\n",
       "      <td>UNet(XAI)</td>\n",
       "      <td>72.29</td>\n",
       "      <td>2.60</td>\n",
       "      <td>93.18</td>\n",
       "      <td>1.18</td>\n",
       "    </tr>\n",
       "  </tbody>\n",
       "</table>\n",
       "</div>"
      ],
      "text/plain": [
       "   Unnamed: 0       methods  mIoU (mean)  mIoU (std)  Dice (mean)  Dice (std)\n",
       "0           0      Cellpose        63.85        1.39        84.51        1.16\n",
       "1           1      Stardist        66.21        0.96        87.86        0.52\n",
       "2           2   BioNet-LSTM        63.94        6.48        92.20        2.78\n",
       "3           3   BioNet(XAI)        65.94        5.31        91.24        2.66\n",
       "4           4  AttUNet-LSTM        71.17        2.77        91.87        2.60\n",
       "5           5  AttUNet(XAI)        73.55        1.41        93.77        0.34\n",
       "6           6     UNet-LSTM        72.23        1.95        94.04        0.28\n",
       "7           7     UNet(XAI)        72.29        2.60        93.18        1.18"
      ]
     },
     "execution_count": 6,
     "metadata": {},
     "output_type": "execute_result"
    }
   ],
   "source": [
    "df_metrics_miou"
   ]
  },
  {
   "cell_type": "code",
   "execution_count": 7,
   "metadata": {},
   "outputs": [
    {
     "data": {
      "text/html": [
       "<div>\n",
       "<style scoped>\n",
       "    .dataframe tbody tr th:only-of-type {\n",
       "        vertical-align: middle;\n",
       "    }\n",
       "\n",
       "    .dataframe tbody tr th {\n",
       "        vertical-align: top;\n",
       "    }\n",
       "\n",
       "    .dataframe thead th {\n",
       "        text-align: right;\n",
       "    }\n",
       "</style>\n",
       "<table border=\"1\" class=\"dataframe\">\n",
       "  <thead>\n",
       "    <tr style=\"text-align: right;\">\n",
       "      <th></th>\n",
       "      <th>Unnamed: 0</th>\n",
       "      <th>methods</th>\n",
       "      <th>execution time (mean)</th>\n",
       "      <th>execution time (std)</th>\n",
       "    </tr>\n",
       "  </thead>\n",
       "  <tbody>\n",
       "    <tr>\n",
       "      <th>0</th>\n",
       "      <td>0</td>\n",
       "      <td>Cellpose</td>\n",
       "      <td>1.0328</td>\n",
       "      <td>0.0238</td>\n",
       "    </tr>\n",
       "    <tr>\n",
       "      <th>1</th>\n",
       "      <td>1</td>\n",
       "      <td>Stardist</td>\n",
       "      <td>0.2224</td>\n",
       "      <td>0.0173</td>\n",
       "    </tr>\n",
       "    <tr>\n",
       "      <th>2</th>\n",
       "      <td>2</td>\n",
       "      <td>BioNet-LSTM</td>\n",
       "      <td>0.3062</td>\n",
       "      <td>0.0062</td>\n",
       "    </tr>\n",
       "    <tr>\n",
       "      <th>3</th>\n",
       "      <td>3</td>\n",
       "      <td>BioNet(XAI)</td>\n",
       "      <td>0.2038</td>\n",
       "      <td>0.0042</td>\n",
       "    </tr>\n",
       "    <tr>\n",
       "      <th>4</th>\n",
       "      <td>4</td>\n",
       "      <td>Att-UNet-LSTM</td>\n",
       "      <td>0.3692</td>\n",
       "      <td>0.0062</td>\n",
       "    </tr>\n",
       "    <tr>\n",
       "      <th>5</th>\n",
       "      <td>5</td>\n",
       "      <td>AttUNet(XAI)</td>\n",
       "      <td>0.1573</td>\n",
       "      <td>0.0021</td>\n",
       "    </tr>\n",
       "    <tr>\n",
       "      <th>6</th>\n",
       "      <td>6</td>\n",
       "      <td>UNet-LSTM</td>\n",
       "      <td>0.3692</td>\n",
       "      <td>0.0062</td>\n",
       "    </tr>\n",
       "    <tr>\n",
       "      <th>7</th>\n",
       "      <td>7</td>\n",
       "      <td>UNet(XAI)</td>\n",
       "      <td>0.1367</td>\n",
       "      <td>0.0069</td>\n",
       "    </tr>\n",
       "  </tbody>\n",
       "</table>\n",
       "</div>"
      ],
      "text/plain": [
       "   Unnamed: 0        methods  execution time (mean)  execution time (std)\n",
       "0           0       Cellpose                 1.0328                0.0238\n",
       "1           1       Stardist                 0.2224                0.0173\n",
       "2           2    BioNet-LSTM                 0.3062                0.0062\n",
       "3           3    BioNet(XAI)                 0.2038                0.0042\n",
       "4           4  Att-UNet-LSTM                 0.3692                0.0062\n",
       "5           5   AttUNet(XAI)                 0.1573                0.0021\n",
       "6           6      UNet-LSTM                 0.3692                0.0062\n",
       "7           7      UNet(XAI)                 0.1367                0.0069"
      ]
     },
     "execution_count": 7,
     "metadata": {},
     "output_type": "execute_result"
    }
   ],
   "source": [
    "df_metrics_exe_time"
   ]
  },
  {
   "cell_type": "code",
   "execution_count": 8,
   "metadata": {},
   "outputs": [],
   "source": [
    "df1 = df_metrics_miou.loc[df_metrics_miou['methods'] == 'Cellpose']\n",
    "df2 = df_metrics_miou.loc[df_metrics_miou['methods'] == 'Stardist']\n",
    "\n",
    "df3 = df_metrics_miou.loc[df_metrics_miou['methods'] == 'BioNet-LSTM']\n",
    "df4 = df_metrics_miou.loc[df_metrics_miou['methods'] == 'BioNet(XAI)']\n",
    "\n",
    "df5 = df_metrics_miou.loc[df_metrics_miou['methods'] == 'AttUNet-LSTM']\n",
    "df6 = df_metrics_miou.loc[df_metrics_miou['methods'] == 'AttUNet(XAI)']\n",
    "\n",
    "df7 = df_metrics_miou.loc[df_metrics_miou['methods'] == 'UNet-LSTM']\n",
    "df8 = df_metrics_miou.loc[df_metrics_miou['methods'] == 'UNet(XAI)']"
   ]
  },
  {
   "cell_type": "code",
   "execution_count": 9,
   "metadata": {},
   "outputs": [],
   "source": [
    "fdf1 = df_metrics_exe_time.loc[df_metrics_exe_time['methods'] == 'Cellpose']\n",
    "fdf2 = df_metrics_exe_time.loc[df_metrics_exe_time['methods'] == 'Stardist']\n",
    "\n",
    "fdf3 = df_metrics_exe_time.loc[df_metrics_exe_time['methods'] == 'BioNet-LSTM']\n",
    "fdf4 = df_metrics_exe_time.loc[df_metrics_exe_time['methods'] == 'BioNet(XAI)']\n",
    "\n",
    "fdf5 = df_metrics_exe_time.loc[df_metrics_exe_time['methods'] == 'Att-UNet-LSTM']\n",
    "fdf6 = df_metrics_exe_time.loc[df_metrics_exe_time['methods'] == 'AttUNet(XAI)']\n",
    "\n",
    "fdf7 = df_metrics_exe_time.loc[df_metrics_exe_time['methods'] == 'UNet-LSTM']\n",
    "fdf8 = df_metrics_exe_time.loc[df_metrics_exe_time['methods'] == 'UNet(XAI)']"
   ]
  },
  {
   "cell_type": "code",
   "execution_count": 14,
   "metadata": {},
   "outputs": [
    {
     "data": {
      "application/vnd.plotly.v1+json": {
       "config": {
        "plotlyServerURL": "https://plot.ly"
       },
       "data": [
        {
         "error_y": {
          "array": [
           1.39,
           0.96,
           6.48,
           5.31,
           2.77,
           1.41,
           1.95,
           2.6
          ],
          "type": "data"
         },
         "marker": {
          "pattern": {
           "shape": [
            "",
            "",
            "+",
            "+",
            "+",
            "+",
            "+",
            "+"
           ]
          }
         },
         "text": [
          "63.85",
          "66.21",
          "63.94",
          "65.94",
          "71.17",
          "73.55",
          "72.23",
          "72.29"
         ],
         "textposition": "outside",
         "type": "bar",
         "x": [
          "Cellpose",
          "Stardist",
          "BioNet-LSTM",
          "BioNet(XAI)",
          "AttUNet-LSTM",
          "AttUNet(XAI)",
          "UNet-LSTM",
          "UNet(XAI)"
         ],
         "y": [
          63.85,
          66.21,
          63.94,
          65.94,
          71.17,
          73.55,
          72.23,
          72.29
         ]
        }
       ],
       "layout": {
        "height": 500,
        "template": {
         "data": {
          "bar": [
           {
            "error_x": {
             "color": "#2a3f5f"
            },
            "error_y": {
             "color": "#2a3f5f"
            },
            "marker": {
             "line": {
              "color": "#E5ECF6",
              "width": 0.5
             },
             "pattern": {
              "fillmode": "overlay",
              "size": 10,
              "solidity": 0.2
             }
            },
            "type": "bar"
           }
          ],
          "barpolar": [
           {
            "marker": {
             "line": {
              "color": "#E5ECF6",
              "width": 0.5
             },
             "pattern": {
              "fillmode": "overlay",
              "size": 10,
              "solidity": 0.2
             }
            },
            "type": "barpolar"
           }
          ],
          "carpet": [
           {
            "aaxis": {
             "endlinecolor": "#2a3f5f",
             "gridcolor": "white",
             "linecolor": "white",
             "minorgridcolor": "white",
             "startlinecolor": "#2a3f5f"
            },
            "baxis": {
             "endlinecolor": "#2a3f5f",
             "gridcolor": "white",
             "linecolor": "white",
             "minorgridcolor": "white",
             "startlinecolor": "#2a3f5f"
            },
            "type": "carpet"
           }
          ],
          "choropleth": [
           {
            "colorbar": {
             "outlinewidth": 0,
             "ticks": ""
            },
            "type": "choropleth"
           }
          ],
          "contour": [
           {
            "colorbar": {
             "outlinewidth": 0,
             "ticks": ""
            },
            "colorscale": [
             [
              0,
              "#0d0887"
             ],
             [
              0.1111111111111111,
              "#46039f"
             ],
             [
              0.2222222222222222,
              "#7201a8"
             ],
             [
              0.3333333333333333,
              "#9c179e"
             ],
             [
              0.4444444444444444,
              "#bd3786"
             ],
             [
              0.5555555555555556,
              "#d8576b"
             ],
             [
              0.6666666666666666,
              "#ed7953"
             ],
             [
              0.7777777777777778,
              "#fb9f3a"
             ],
             [
              0.8888888888888888,
              "#fdca26"
             ],
             [
              1,
              "#f0f921"
             ]
            ],
            "type": "contour"
           }
          ],
          "contourcarpet": [
           {
            "colorbar": {
             "outlinewidth": 0,
             "ticks": ""
            },
            "type": "contourcarpet"
           }
          ],
          "heatmap": [
           {
            "colorbar": {
             "outlinewidth": 0,
             "ticks": ""
            },
            "colorscale": [
             [
              0,
              "#0d0887"
             ],
             [
              0.1111111111111111,
              "#46039f"
             ],
             [
              0.2222222222222222,
              "#7201a8"
             ],
             [
              0.3333333333333333,
              "#9c179e"
             ],
             [
              0.4444444444444444,
              "#bd3786"
             ],
             [
              0.5555555555555556,
              "#d8576b"
             ],
             [
              0.6666666666666666,
              "#ed7953"
             ],
             [
              0.7777777777777778,
              "#fb9f3a"
             ],
             [
              0.8888888888888888,
              "#fdca26"
             ],
             [
              1,
              "#f0f921"
             ]
            ],
            "type": "heatmap"
           }
          ],
          "heatmapgl": [
           {
            "colorbar": {
             "outlinewidth": 0,
             "ticks": ""
            },
            "colorscale": [
             [
              0,
              "#0d0887"
             ],
             [
              0.1111111111111111,
              "#46039f"
             ],
             [
              0.2222222222222222,
              "#7201a8"
             ],
             [
              0.3333333333333333,
              "#9c179e"
             ],
             [
              0.4444444444444444,
              "#bd3786"
             ],
             [
              0.5555555555555556,
              "#d8576b"
             ],
             [
              0.6666666666666666,
              "#ed7953"
             ],
             [
              0.7777777777777778,
              "#fb9f3a"
             ],
             [
              0.8888888888888888,
              "#fdca26"
             ],
             [
              1,
              "#f0f921"
             ]
            ],
            "type": "heatmapgl"
           }
          ],
          "histogram": [
           {
            "marker": {
             "pattern": {
              "fillmode": "overlay",
              "size": 10,
              "solidity": 0.2
             }
            },
            "type": "histogram"
           }
          ],
          "histogram2d": [
           {
            "colorbar": {
             "outlinewidth": 0,
             "ticks": ""
            },
            "colorscale": [
             [
              0,
              "#0d0887"
             ],
             [
              0.1111111111111111,
              "#46039f"
             ],
             [
              0.2222222222222222,
              "#7201a8"
             ],
             [
              0.3333333333333333,
              "#9c179e"
             ],
             [
              0.4444444444444444,
              "#bd3786"
             ],
             [
              0.5555555555555556,
              "#d8576b"
             ],
             [
              0.6666666666666666,
              "#ed7953"
             ],
             [
              0.7777777777777778,
              "#fb9f3a"
             ],
             [
              0.8888888888888888,
              "#fdca26"
             ],
             [
              1,
              "#f0f921"
             ]
            ],
            "type": "histogram2d"
           }
          ],
          "histogram2dcontour": [
           {
            "colorbar": {
             "outlinewidth": 0,
             "ticks": ""
            },
            "colorscale": [
             [
              0,
              "#0d0887"
             ],
             [
              0.1111111111111111,
              "#46039f"
             ],
             [
              0.2222222222222222,
              "#7201a8"
             ],
             [
              0.3333333333333333,
              "#9c179e"
             ],
             [
              0.4444444444444444,
              "#bd3786"
             ],
             [
              0.5555555555555556,
              "#d8576b"
             ],
             [
              0.6666666666666666,
              "#ed7953"
             ],
             [
              0.7777777777777778,
              "#fb9f3a"
             ],
             [
              0.8888888888888888,
              "#fdca26"
             ],
             [
              1,
              "#f0f921"
             ]
            ],
            "type": "histogram2dcontour"
           }
          ],
          "mesh3d": [
           {
            "colorbar": {
             "outlinewidth": 0,
             "ticks": ""
            },
            "type": "mesh3d"
           }
          ],
          "parcoords": [
           {
            "line": {
             "colorbar": {
              "outlinewidth": 0,
              "ticks": ""
             }
            },
            "type": "parcoords"
           }
          ],
          "pie": [
           {
            "automargin": true,
            "type": "pie"
           }
          ],
          "scatter": [
           {
            "fillpattern": {
             "fillmode": "overlay",
             "size": 10,
             "solidity": 0.2
            },
            "type": "scatter"
           }
          ],
          "scatter3d": [
           {
            "line": {
             "colorbar": {
              "outlinewidth": 0,
              "ticks": ""
             }
            },
            "marker": {
             "colorbar": {
              "outlinewidth": 0,
              "ticks": ""
             }
            },
            "type": "scatter3d"
           }
          ],
          "scattercarpet": [
           {
            "marker": {
             "colorbar": {
              "outlinewidth": 0,
              "ticks": ""
             }
            },
            "type": "scattercarpet"
           }
          ],
          "scattergeo": [
           {
            "marker": {
             "colorbar": {
              "outlinewidth": 0,
              "ticks": ""
             }
            },
            "type": "scattergeo"
           }
          ],
          "scattergl": [
           {
            "marker": {
             "colorbar": {
              "outlinewidth": 0,
              "ticks": ""
             }
            },
            "type": "scattergl"
           }
          ],
          "scattermapbox": [
           {
            "marker": {
             "colorbar": {
              "outlinewidth": 0,
              "ticks": ""
             }
            },
            "type": "scattermapbox"
           }
          ],
          "scatterpolar": [
           {
            "marker": {
             "colorbar": {
              "outlinewidth": 0,
              "ticks": ""
             }
            },
            "type": "scatterpolar"
           }
          ],
          "scatterpolargl": [
           {
            "marker": {
             "colorbar": {
              "outlinewidth": 0,
              "ticks": ""
             }
            },
            "type": "scatterpolargl"
           }
          ],
          "scatterternary": [
           {
            "marker": {
             "colorbar": {
              "outlinewidth": 0,
              "ticks": ""
             }
            },
            "type": "scatterternary"
           }
          ],
          "surface": [
           {
            "colorbar": {
             "outlinewidth": 0,
             "ticks": ""
            },
            "colorscale": [
             [
              0,
              "#0d0887"
             ],
             [
              0.1111111111111111,
              "#46039f"
             ],
             [
              0.2222222222222222,
              "#7201a8"
             ],
             [
              0.3333333333333333,
              "#9c179e"
             ],
             [
              0.4444444444444444,
              "#bd3786"
             ],
             [
              0.5555555555555556,
              "#d8576b"
             ],
             [
              0.6666666666666666,
              "#ed7953"
             ],
             [
              0.7777777777777778,
              "#fb9f3a"
             ],
             [
              0.8888888888888888,
              "#fdca26"
             ],
             [
              1,
              "#f0f921"
             ]
            ],
            "type": "surface"
           }
          ],
          "table": [
           {
            "cells": {
             "fill": {
              "color": "#EBF0F8"
             },
             "line": {
              "color": "white"
             }
            },
            "header": {
             "fill": {
              "color": "#C8D4E3"
             },
             "line": {
              "color": "white"
             }
            },
            "type": "table"
           }
          ]
         },
         "layout": {
          "annotationdefaults": {
           "arrowcolor": "#2a3f5f",
           "arrowhead": 0,
           "arrowwidth": 1
          },
          "autotypenumbers": "strict",
          "coloraxis": {
           "colorbar": {
            "outlinewidth": 0,
            "ticks": ""
           }
          },
          "colorscale": {
           "diverging": [
            [
             0,
             "#8e0152"
            ],
            [
             0.1,
             "#c51b7d"
            ],
            [
             0.2,
             "#de77ae"
            ],
            [
             0.3,
             "#f1b6da"
            ],
            [
             0.4,
             "#fde0ef"
            ],
            [
             0.5,
             "#f7f7f7"
            ],
            [
             0.6,
             "#e6f5d0"
            ],
            [
             0.7,
             "#b8e186"
            ],
            [
             0.8,
             "#7fbc41"
            ],
            [
             0.9,
             "#4d9221"
            ],
            [
             1,
             "#276419"
            ]
           ],
           "sequential": [
            [
             0,
             "#0d0887"
            ],
            [
             0.1111111111111111,
             "#46039f"
            ],
            [
             0.2222222222222222,
             "#7201a8"
            ],
            [
             0.3333333333333333,
             "#9c179e"
            ],
            [
             0.4444444444444444,
             "#bd3786"
            ],
            [
             0.5555555555555556,
             "#d8576b"
            ],
            [
             0.6666666666666666,
             "#ed7953"
            ],
            [
             0.7777777777777778,
             "#fb9f3a"
            ],
            [
             0.8888888888888888,
             "#fdca26"
            ],
            [
             1,
             "#f0f921"
            ]
           ],
           "sequentialminus": [
            [
             0,
             "#0d0887"
            ],
            [
             0.1111111111111111,
             "#46039f"
            ],
            [
             0.2222222222222222,
             "#7201a8"
            ],
            [
             0.3333333333333333,
             "#9c179e"
            ],
            [
             0.4444444444444444,
             "#bd3786"
            ],
            [
             0.5555555555555556,
             "#d8576b"
            ],
            [
             0.6666666666666666,
             "#ed7953"
            ],
            [
             0.7777777777777778,
             "#fb9f3a"
            ],
            [
             0.8888888888888888,
             "#fdca26"
            ],
            [
             1,
             "#f0f921"
            ]
           ]
          },
          "colorway": [
           "#636efa",
           "#EF553B",
           "#00cc96",
           "#ab63fa",
           "#FFA15A",
           "#19d3f3",
           "#FF6692",
           "#B6E880",
           "#FF97FF",
           "#FECB52"
          ],
          "font": {
           "color": "#2a3f5f"
          },
          "geo": {
           "bgcolor": "white",
           "lakecolor": "white",
           "landcolor": "#E5ECF6",
           "showlakes": true,
           "showland": true,
           "subunitcolor": "white"
          },
          "hoverlabel": {
           "align": "left"
          },
          "hovermode": "closest",
          "mapbox": {
           "style": "light"
          },
          "paper_bgcolor": "white",
          "plot_bgcolor": "#E5ECF6",
          "polar": {
           "angularaxis": {
            "gridcolor": "white",
            "linecolor": "white",
            "ticks": ""
           },
           "bgcolor": "#E5ECF6",
           "radialaxis": {
            "gridcolor": "white",
            "linecolor": "white",
            "ticks": ""
           }
          },
          "scene": {
           "xaxis": {
            "backgroundcolor": "#E5ECF6",
            "gridcolor": "white",
            "gridwidth": 2,
            "linecolor": "white",
            "showbackground": true,
            "ticks": "",
            "zerolinecolor": "white"
           },
           "yaxis": {
            "backgroundcolor": "#E5ECF6",
            "gridcolor": "white",
            "gridwidth": 2,
            "linecolor": "white",
            "showbackground": true,
            "ticks": "",
            "zerolinecolor": "white"
           },
           "zaxis": {
            "backgroundcolor": "#E5ECF6",
            "gridcolor": "white",
            "gridwidth": 2,
            "linecolor": "white",
            "showbackground": true,
            "ticks": "",
            "zerolinecolor": "white"
           }
          },
          "shapedefaults": {
           "line": {
            "color": "#2a3f5f"
           }
          },
          "ternary": {
           "aaxis": {
            "gridcolor": "white",
            "linecolor": "white",
            "ticks": ""
           },
           "baxis": {
            "gridcolor": "white",
            "linecolor": "white",
            "ticks": ""
           },
           "bgcolor": "#E5ECF6",
           "caxis": {
            "gridcolor": "white",
            "linecolor": "white",
            "ticks": ""
           }
          },
          "title": {
           "x": 0.05
          },
          "xaxis": {
           "automargin": true,
           "gridcolor": "white",
           "linecolor": "white",
           "ticks": "",
           "title": {
            "standoff": 15
           },
           "zerolinecolor": "white",
           "zerolinewidth": 2
          },
          "yaxis": {
           "automargin": true,
           "gridcolor": "white",
           "linecolor": "white",
           "ticks": "",
           "title": {
            "standoff": 15
           },
           "zerolinecolor": "white",
           "zerolinewidth": 2
          }
         }
        },
        "width": 600,
        "yaxis": {
         "range": [
          0,
          100
         ],
         "title": {
          "text": "mIoU"
         }
        }
       }
      }
     },
     "metadata": {},
     "output_type": "display_data"
    }
   ],
   "source": [
    "import plotly.graph_objects as go\n",
    "\n",
    "colors = [\"+\",] * 8\n",
    "colors[0], colors[1] = '', ''\n",
    "\n",
    "y=[float(df1['mIoU (mean)']), float(df2['mIoU (mean)']), \n",
    "    float(df3['mIoU (mean)']), float(df4['mIoU (mean)']),\n",
    "    float(df5['mIoU (mean)']), float(df6['mIoU (mean)']),\n",
    "    float(df7['mIoU (mean)']), float(df8['mIoU (mean)'])]\n",
    "\n",
    "fig = go.Figure(data=[go.Bar(\n",
    "    x=['Cellpose', 'Stardist', 'BioNet-LSTM', 'BioNet(XAI)', 'AttUNet-LSTM', 'AttUNet(XAI)', 'UNet-LSTM', 'UNet(XAI)'],\n",
    "    y =y,\n",
    "    text=y,\n",
    "    textposition='outside',\n",
    "    error_y=dict(type='data', array=[\n",
    "        float(df1['mIoU (std)']), float(df2['mIoU (std)']),\n",
    "        float(df3['mIoU (std)']), float(df4['mIoU (std)']),\n",
    "        float(df5['mIoU (std)']), float(df6['mIoU (std)']),\n",
    "        float(df7['mIoU (std)']), float(df8['mIoU (std)'])]),\n",
    "    marker_pattern_shape=colors # marker color can be a single color value or an iterable\n",
    ")])\n",
    "fig.update_yaxes(range=(0, 100))\n",
    "fig.update_layout( yaxis_title='mIoU',width=600,\n",
    "                   height=500)\n",
    "\n",
    "fig.write_image(\"./evaluation_figures/mIoU.pdf\")\n",
    "fig.show()"
   ]
  },
  {
   "cell_type": "code",
   "execution_count": 11,
   "metadata": {},
   "outputs": [
    {
     "data": {
      "application/vnd.plotly.v1+json": {
       "config": {
        "plotlyServerURL": "https://plot.ly"
       },
       "data": [
        {
         "error_y": {
          "array": [
           0.0238,
           0.0173,
           0.0062,
           0.0042,
           0.0062,
           0.0021,
           0.0062,
           0.0069
          ],
          "type": "data"
         },
         "marker": {
          "pattern": {
           "shape": [
            "",
            "",
            "+",
            "+",
            "+",
            "+",
            "+",
            "+"
           ]
          }
         },
         "text": [
          "1.0328",
          "0.2224",
          "0.3062",
          "0.2038",
          "0.3692",
          "0.1573",
          "0.3692",
          "0.1367"
         ],
         "textposition": "outside",
         "type": "bar",
         "x": [
          "Cellpose",
          "Stardist",
          "BioNet-LSTM",
          "BioNet(XAI)",
          "AttUNet-LSTM",
          "AttUNet(XAI)",
          "UNet-LSTM",
          "UNet(XAI)"
         ],
         "y": [
          1.0328,
          0.2224,
          0.3062,
          0.2038,
          0.3692,
          0.1573,
          0.3692,
          0.1367
         ]
        }
       ],
       "layout": {
        "height": 500,
        "template": {
         "data": {
          "bar": [
           {
            "error_x": {
             "color": "#2a3f5f"
            },
            "error_y": {
             "color": "#2a3f5f"
            },
            "marker": {
             "line": {
              "color": "#E5ECF6",
              "width": 0.5
             },
             "pattern": {
              "fillmode": "overlay",
              "size": 10,
              "solidity": 0.2
             }
            },
            "type": "bar"
           }
          ],
          "barpolar": [
           {
            "marker": {
             "line": {
              "color": "#E5ECF6",
              "width": 0.5
             },
             "pattern": {
              "fillmode": "overlay",
              "size": 10,
              "solidity": 0.2
             }
            },
            "type": "barpolar"
           }
          ],
          "carpet": [
           {
            "aaxis": {
             "endlinecolor": "#2a3f5f",
             "gridcolor": "white",
             "linecolor": "white",
             "minorgridcolor": "white",
             "startlinecolor": "#2a3f5f"
            },
            "baxis": {
             "endlinecolor": "#2a3f5f",
             "gridcolor": "white",
             "linecolor": "white",
             "minorgridcolor": "white",
             "startlinecolor": "#2a3f5f"
            },
            "type": "carpet"
           }
          ],
          "choropleth": [
           {
            "colorbar": {
             "outlinewidth": 0,
             "ticks": ""
            },
            "type": "choropleth"
           }
          ],
          "contour": [
           {
            "colorbar": {
             "outlinewidth": 0,
             "ticks": ""
            },
            "colorscale": [
             [
              0,
              "#0d0887"
             ],
             [
              0.1111111111111111,
              "#46039f"
             ],
             [
              0.2222222222222222,
              "#7201a8"
             ],
             [
              0.3333333333333333,
              "#9c179e"
             ],
             [
              0.4444444444444444,
              "#bd3786"
             ],
             [
              0.5555555555555556,
              "#d8576b"
             ],
             [
              0.6666666666666666,
              "#ed7953"
             ],
             [
              0.7777777777777778,
              "#fb9f3a"
             ],
             [
              0.8888888888888888,
              "#fdca26"
             ],
             [
              1,
              "#f0f921"
             ]
            ],
            "type": "contour"
           }
          ],
          "contourcarpet": [
           {
            "colorbar": {
             "outlinewidth": 0,
             "ticks": ""
            },
            "type": "contourcarpet"
           }
          ],
          "heatmap": [
           {
            "colorbar": {
             "outlinewidth": 0,
             "ticks": ""
            },
            "colorscale": [
             [
              0,
              "#0d0887"
             ],
             [
              0.1111111111111111,
              "#46039f"
             ],
             [
              0.2222222222222222,
              "#7201a8"
             ],
             [
              0.3333333333333333,
              "#9c179e"
             ],
             [
              0.4444444444444444,
              "#bd3786"
             ],
             [
              0.5555555555555556,
              "#d8576b"
             ],
             [
              0.6666666666666666,
              "#ed7953"
             ],
             [
              0.7777777777777778,
              "#fb9f3a"
             ],
             [
              0.8888888888888888,
              "#fdca26"
             ],
             [
              1,
              "#f0f921"
             ]
            ],
            "type": "heatmap"
           }
          ],
          "heatmapgl": [
           {
            "colorbar": {
             "outlinewidth": 0,
             "ticks": ""
            },
            "colorscale": [
             [
              0,
              "#0d0887"
             ],
             [
              0.1111111111111111,
              "#46039f"
             ],
             [
              0.2222222222222222,
              "#7201a8"
             ],
             [
              0.3333333333333333,
              "#9c179e"
             ],
             [
              0.4444444444444444,
              "#bd3786"
             ],
             [
              0.5555555555555556,
              "#d8576b"
             ],
             [
              0.6666666666666666,
              "#ed7953"
             ],
             [
              0.7777777777777778,
              "#fb9f3a"
             ],
             [
              0.8888888888888888,
              "#fdca26"
             ],
             [
              1,
              "#f0f921"
             ]
            ],
            "type": "heatmapgl"
           }
          ],
          "histogram": [
           {
            "marker": {
             "pattern": {
              "fillmode": "overlay",
              "size": 10,
              "solidity": 0.2
             }
            },
            "type": "histogram"
           }
          ],
          "histogram2d": [
           {
            "colorbar": {
             "outlinewidth": 0,
             "ticks": ""
            },
            "colorscale": [
             [
              0,
              "#0d0887"
             ],
             [
              0.1111111111111111,
              "#46039f"
             ],
             [
              0.2222222222222222,
              "#7201a8"
             ],
             [
              0.3333333333333333,
              "#9c179e"
             ],
             [
              0.4444444444444444,
              "#bd3786"
             ],
             [
              0.5555555555555556,
              "#d8576b"
             ],
             [
              0.6666666666666666,
              "#ed7953"
             ],
             [
              0.7777777777777778,
              "#fb9f3a"
             ],
             [
              0.8888888888888888,
              "#fdca26"
             ],
             [
              1,
              "#f0f921"
             ]
            ],
            "type": "histogram2d"
           }
          ],
          "histogram2dcontour": [
           {
            "colorbar": {
             "outlinewidth": 0,
             "ticks": ""
            },
            "colorscale": [
             [
              0,
              "#0d0887"
             ],
             [
              0.1111111111111111,
              "#46039f"
             ],
             [
              0.2222222222222222,
              "#7201a8"
             ],
             [
              0.3333333333333333,
              "#9c179e"
             ],
             [
              0.4444444444444444,
              "#bd3786"
             ],
             [
              0.5555555555555556,
              "#d8576b"
             ],
             [
              0.6666666666666666,
              "#ed7953"
             ],
             [
              0.7777777777777778,
              "#fb9f3a"
             ],
             [
              0.8888888888888888,
              "#fdca26"
             ],
             [
              1,
              "#f0f921"
             ]
            ],
            "type": "histogram2dcontour"
           }
          ],
          "mesh3d": [
           {
            "colorbar": {
             "outlinewidth": 0,
             "ticks": ""
            },
            "type": "mesh3d"
           }
          ],
          "parcoords": [
           {
            "line": {
             "colorbar": {
              "outlinewidth": 0,
              "ticks": ""
             }
            },
            "type": "parcoords"
           }
          ],
          "pie": [
           {
            "automargin": true,
            "type": "pie"
           }
          ],
          "scatter": [
           {
            "fillpattern": {
             "fillmode": "overlay",
             "size": 10,
             "solidity": 0.2
            },
            "type": "scatter"
           }
          ],
          "scatter3d": [
           {
            "line": {
             "colorbar": {
              "outlinewidth": 0,
              "ticks": ""
             }
            },
            "marker": {
             "colorbar": {
              "outlinewidth": 0,
              "ticks": ""
             }
            },
            "type": "scatter3d"
           }
          ],
          "scattercarpet": [
           {
            "marker": {
             "colorbar": {
              "outlinewidth": 0,
              "ticks": ""
             }
            },
            "type": "scattercarpet"
           }
          ],
          "scattergeo": [
           {
            "marker": {
             "colorbar": {
              "outlinewidth": 0,
              "ticks": ""
             }
            },
            "type": "scattergeo"
           }
          ],
          "scattergl": [
           {
            "marker": {
             "colorbar": {
              "outlinewidth": 0,
              "ticks": ""
             }
            },
            "type": "scattergl"
           }
          ],
          "scattermapbox": [
           {
            "marker": {
             "colorbar": {
              "outlinewidth": 0,
              "ticks": ""
             }
            },
            "type": "scattermapbox"
           }
          ],
          "scatterpolar": [
           {
            "marker": {
             "colorbar": {
              "outlinewidth": 0,
              "ticks": ""
             }
            },
            "type": "scatterpolar"
           }
          ],
          "scatterpolargl": [
           {
            "marker": {
             "colorbar": {
              "outlinewidth": 0,
              "ticks": ""
             }
            },
            "type": "scatterpolargl"
           }
          ],
          "scatterternary": [
           {
            "marker": {
             "colorbar": {
              "outlinewidth": 0,
              "ticks": ""
             }
            },
            "type": "scatterternary"
           }
          ],
          "surface": [
           {
            "colorbar": {
             "outlinewidth": 0,
             "ticks": ""
            },
            "colorscale": [
             [
              0,
              "#0d0887"
             ],
             [
              0.1111111111111111,
              "#46039f"
             ],
             [
              0.2222222222222222,
              "#7201a8"
             ],
             [
              0.3333333333333333,
              "#9c179e"
             ],
             [
              0.4444444444444444,
              "#bd3786"
             ],
             [
              0.5555555555555556,
              "#d8576b"
             ],
             [
              0.6666666666666666,
              "#ed7953"
             ],
             [
              0.7777777777777778,
              "#fb9f3a"
             ],
             [
              0.8888888888888888,
              "#fdca26"
             ],
             [
              1,
              "#f0f921"
             ]
            ],
            "type": "surface"
           }
          ],
          "table": [
           {
            "cells": {
             "fill": {
              "color": "#EBF0F8"
             },
             "line": {
              "color": "white"
             }
            },
            "header": {
             "fill": {
              "color": "#C8D4E3"
             },
             "line": {
              "color": "white"
             }
            },
            "type": "table"
           }
          ]
         },
         "layout": {
          "annotationdefaults": {
           "arrowcolor": "#2a3f5f",
           "arrowhead": 0,
           "arrowwidth": 1
          },
          "autotypenumbers": "strict",
          "coloraxis": {
           "colorbar": {
            "outlinewidth": 0,
            "ticks": ""
           }
          },
          "colorscale": {
           "diverging": [
            [
             0,
             "#8e0152"
            ],
            [
             0.1,
             "#c51b7d"
            ],
            [
             0.2,
             "#de77ae"
            ],
            [
             0.3,
             "#f1b6da"
            ],
            [
             0.4,
             "#fde0ef"
            ],
            [
             0.5,
             "#f7f7f7"
            ],
            [
             0.6,
             "#e6f5d0"
            ],
            [
             0.7,
             "#b8e186"
            ],
            [
             0.8,
             "#7fbc41"
            ],
            [
             0.9,
             "#4d9221"
            ],
            [
             1,
             "#276419"
            ]
           ],
           "sequential": [
            [
             0,
             "#0d0887"
            ],
            [
             0.1111111111111111,
             "#46039f"
            ],
            [
             0.2222222222222222,
             "#7201a8"
            ],
            [
             0.3333333333333333,
             "#9c179e"
            ],
            [
             0.4444444444444444,
             "#bd3786"
            ],
            [
             0.5555555555555556,
             "#d8576b"
            ],
            [
             0.6666666666666666,
             "#ed7953"
            ],
            [
             0.7777777777777778,
             "#fb9f3a"
            ],
            [
             0.8888888888888888,
             "#fdca26"
            ],
            [
             1,
             "#f0f921"
            ]
           ],
           "sequentialminus": [
            [
             0,
             "#0d0887"
            ],
            [
             0.1111111111111111,
             "#46039f"
            ],
            [
             0.2222222222222222,
             "#7201a8"
            ],
            [
             0.3333333333333333,
             "#9c179e"
            ],
            [
             0.4444444444444444,
             "#bd3786"
            ],
            [
             0.5555555555555556,
             "#d8576b"
            ],
            [
             0.6666666666666666,
             "#ed7953"
            ],
            [
             0.7777777777777778,
             "#fb9f3a"
            ],
            [
             0.8888888888888888,
             "#fdca26"
            ],
            [
             1,
             "#f0f921"
            ]
           ]
          },
          "colorway": [
           "#636efa",
           "#EF553B",
           "#00cc96",
           "#ab63fa",
           "#FFA15A",
           "#19d3f3",
           "#FF6692",
           "#B6E880",
           "#FF97FF",
           "#FECB52"
          ],
          "font": {
           "color": "#2a3f5f"
          },
          "geo": {
           "bgcolor": "white",
           "lakecolor": "white",
           "landcolor": "#E5ECF6",
           "showlakes": true,
           "showland": true,
           "subunitcolor": "white"
          },
          "hoverlabel": {
           "align": "left"
          },
          "hovermode": "closest",
          "mapbox": {
           "style": "light"
          },
          "paper_bgcolor": "white",
          "plot_bgcolor": "#E5ECF6",
          "polar": {
           "angularaxis": {
            "gridcolor": "white",
            "linecolor": "white",
            "ticks": ""
           },
           "bgcolor": "#E5ECF6",
           "radialaxis": {
            "gridcolor": "white",
            "linecolor": "white",
            "ticks": ""
           }
          },
          "scene": {
           "xaxis": {
            "backgroundcolor": "#E5ECF6",
            "gridcolor": "white",
            "gridwidth": 2,
            "linecolor": "white",
            "showbackground": true,
            "ticks": "",
            "zerolinecolor": "white"
           },
           "yaxis": {
            "backgroundcolor": "#E5ECF6",
            "gridcolor": "white",
            "gridwidth": 2,
            "linecolor": "white",
            "showbackground": true,
            "ticks": "",
            "zerolinecolor": "white"
           },
           "zaxis": {
            "backgroundcolor": "#E5ECF6",
            "gridcolor": "white",
            "gridwidth": 2,
            "linecolor": "white",
            "showbackground": true,
            "ticks": "",
            "zerolinecolor": "white"
           }
          },
          "shapedefaults": {
           "line": {
            "color": "#2a3f5f"
           }
          },
          "ternary": {
           "aaxis": {
            "gridcolor": "white",
            "linecolor": "white",
            "ticks": ""
           },
           "baxis": {
            "gridcolor": "white",
            "linecolor": "white",
            "ticks": ""
           },
           "bgcolor": "#E5ECF6",
           "caxis": {
            "gridcolor": "white",
            "linecolor": "white",
            "ticks": ""
           }
          },
          "title": {
           "x": 0.05
          },
          "xaxis": {
           "automargin": true,
           "gridcolor": "white",
           "linecolor": "white",
           "ticks": "",
           "title": {
            "standoff": 15
           },
           "zerolinecolor": "white",
           "zerolinewidth": 2
          },
          "yaxis": {
           "automargin": true,
           "gridcolor": "white",
           "linecolor": "white",
           "ticks": "",
           "title": {
            "standoff": 15
           },
           "zerolinecolor": "white",
           "zerolinewidth": 2
          }
         }
        },
        "width": 600,
        "yaxis": {
         "title": {
          "text": "Execution time per image (seconds)"
         }
        }
       }
      }
     },
     "metadata": {},
     "output_type": "display_data"
    }
   ],
   "source": [
    "import plotly.graph_objects as go\n",
    "\n",
    "colors = [\"+\",] * 8\n",
    "colors[0], colors[1] = '', ''\n",
    "y=[float(fdf1['execution time (mean)']), float(fdf2['execution time (mean)']), \n",
    "       float(fdf3['execution time (mean)']), float(fdf4['execution time (mean)']),\n",
    "       float(fdf5['execution time (mean)']), float(fdf6['execution time (mean)']),\n",
    "       float(fdf7['execution time (mean)']), float(fdf8['execution time (mean)'])]\n",
    "fig = go.Figure(data=[go.Bar(\n",
    "    x=['Cellpose', 'Stardist', 'BioNet-LSTM', 'BioNet(XAI)', 'AttUNet-LSTM', 'AttUNet(XAI)', 'UNet-LSTM', 'UNet(XAI)'],\n",
    "    y =y,\n",
    "    text=y,\n",
    "    textposition='outside',\n",
    "    error_y=dict(type='data', array=[\n",
    "        float(fdf1['execution time (std)']), float(fdf2['execution time (std)']),\n",
    "        float(fdf3['execution time (std)']), float(fdf4['execution time (std)']),\n",
    "        float(fdf5['execution time (std)']), float(fdf6['execution time (std)']),\n",
    "        float(fdf7['execution time (std)']), float(fdf8['execution time (std)'])]),\n",
    "    marker_pattern_shape=colors # marker color can be a single color value or an iterable\n",
    ")])\n",
    "# fig.update_yaxes(range=(0, 1.2))\n",
    "fig.update_layout( yaxis_title='Execution time per image (seconds)',width=600,\n",
    "                   height=500)\n",
    "\n",
    "fig.write_image(\"./evaluation_figures/exe_time.pdf\")\n",
    "fig.show()"
   ]
  },
  {
   "cell_type": "code",
   "execution_count": 12,
   "metadata": {},
   "outputs": [
    {
     "data": {
      "application/vnd.plotly.v1+json": {
       "config": {
        "plotlyServerURL": "https://plot.ly"
       },
       "data": [
        {
         "marker": {
          "pattern": {
           "shape": [
            "+",
            "+",
            "+",
            "+",
            "+",
            "+"
           ]
          }
         },
         "text": [
          "60234946",
          "8420065",
          "54168494",
          "7571033",
          "50325506",
          "7023385"
         ],
         "textposition": "outside",
         "type": "bar",
         "x": [
          "BioNet-LSTM",
          "BioNet(XAI)",
          "AttUNet-LSTM",
          "AttUNet(XAI)",
          "UNet-LSTM",
          "UNet(XAI)"
         ],
         "y": [
          60234946,
          8420065,
          54168494,
          7571033,
          50325506,
          7023385
         ]
        }
       ],
       "layout": {
        "height": 500,
        "template": {
         "data": {
          "bar": [
           {
            "error_x": {
             "color": "#2a3f5f"
            },
            "error_y": {
             "color": "#2a3f5f"
            },
            "marker": {
             "line": {
              "color": "#E5ECF6",
              "width": 0.5
             },
             "pattern": {
              "fillmode": "overlay",
              "size": 10,
              "solidity": 0.2
             }
            },
            "type": "bar"
           }
          ],
          "barpolar": [
           {
            "marker": {
             "line": {
              "color": "#E5ECF6",
              "width": 0.5
             },
             "pattern": {
              "fillmode": "overlay",
              "size": 10,
              "solidity": 0.2
             }
            },
            "type": "barpolar"
           }
          ],
          "carpet": [
           {
            "aaxis": {
             "endlinecolor": "#2a3f5f",
             "gridcolor": "white",
             "linecolor": "white",
             "minorgridcolor": "white",
             "startlinecolor": "#2a3f5f"
            },
            "baxis": {
             "endlinecolor": "#2a3f5f",
             "gridcolor": "white",
             "linecolor": "white",
             "minorgridcolor": "white",
             "startlinecolor": "#2a3f5f"
            },
            "type": "carpet"
           }
          ],
          "choropleth": [
           {
            "colorbar": {
             "outlinewidth": 0,
             "ticks": ""
            },
            "type": "choropleth"
           }
          ],
          "contour": [
           {
            "colorbar": {
             "outlinewidth": 0,
             "ticks": ""
            },
            "colorscale": [
             [
              0,
              "#0d0887"
             ],
             [
              0.1111111111111111,
              "#46039f"
             ],
             [
              0.2222222222222222,
              "#7201a8"
             ],
             [
              0.3333333333333333,
              "#9c179e"
             ],
             [
              0.4444444444444444,
              "#bd3786"
             ],
             [
              0.5555555555555556,
              "#d8576b"
             ],
             [
              0.6666666666666666,
              "#ed7953"
             ],
             [
              0.7777777777777778,
              "#fb9f3a"
             ],
             [
              0.8888888888888888,
              "#fdca26"
             ],
             [
              1,
              "#f0f921"
             ]
            ],
            "type": "contour"
           }
          ],
          "contourcarpet": [
           {
            "colorbar": {
             "outlinewidth": 0,
             "ticks": ""
            },
            "type": "contourcarpet"
           }
          ],
          "heatmap": [
           {
            "colorbar": {
             "outlinewidth": 0,
             "ticks": ""
            },
            "colorscale": [
             [
              0,
              "#0d0887"
             ],
             [
              0.1111111111111111,
              "#46039f"
             ],
             [
              0.2222222222222222,
              "#7201a8"
             ],
             [
              0.3333333333333333,
              "#9c179e"
             ],
             [
              0.4444444444444444,
              "#bd3786"
             ],
             [
              0.5555555555555556,
              "#d8576b"
             ],
             [
              0.6666666666666666,
              "#ed7953"
             ],
             [
              0.7777777777777778,
              "#fb9f3a"
             ],
             [
              0.8888888888888888,
              "#fdca26"
             ],
             [
              1,
              "#f0f921"
             ]
            ],
            "type": "heatmap"
           }
          ],
          "heatmapgl": [
           {
            "colorbar": {
             "outlinewidth": 0,
             "ticks": ""
            },
            "colorscale": [
             [
              0,
              "#0d0887"
             ],
             [
              0.1111111111111111,
              "#46039f"
             ],
             [
              0.2222222222222222,
              "#7201a8"
             ],
             [
              0.3333333333333333,
              "#9c179e"
             ],
             [
              0.4444444444444444,
              "#bd3786"
             ],
             [
              0.5555555555555556,
              "#d8576b"
             ],
             [
              0.6666666666666666,
              "#ed7953"
             ],
             [
              0.7777777777777778,
              "#fb9f3a"
             ],
             [
              0.8888888888888888,
              "#fdca26"
             ],
             [
              1,
              "#f0f921"
             ]
            ],
            "type": "heatmapgl"
           }
          ],
          "histogram": [
           {
            "marker": {
             "pattern": {
              "fillmode": "overlay",
              "size": 10,
              "solidity": 0.2
             }
            },
            "type": "histogram"
           }
          ],
          "histogram2d": [
           {
            "colorbar": {
             "outlinewidth": 0,
             "ticks": ""
            },
            "colorscale": [
             [
              0,
              "#0d0887"
             ],
             [
              0.1111111111111111,
              "#46039f"
             ],
             [
              0.2222222222222222,
              "#7201a8"
             ],
             [
              0.3333333333333333,
              "#9c179e"
             ],
             [
              0.4444444444444444,
              "#bd3786"
             ],
             [
              0.5555555555555556,
              "#d8576b"
             ],
             [
              0.6666666666666666,
              "#ed7953"
             ],
             [
              0.7777777777777778,
              "#fb9f3a"
             ],
             [
              0.8888888888888888,
              "#fdca26"
             ],
             [
              1,
              "#f0f921"
             ]
            ],
            "type": "histogram2d"
           }
          ],
          "histogram2dcontour": [
           {
            "colorbar": {
             "outlinewidth": 0,
             "ticks": ""
            },
            "colorscale": [
             [
              0,
              "#0d0887"
             ],
             [
              0.1111111111111111,
              "#46039f"
             ],
             [
              0.2222222222222222,
              "#7201a8"
             ],
             [
              0.3333333333333333,
              "#9c179e"
             ],
             [
              0.4444444444444444,
              "#bd3786"
             ],
             [
              0.5555555555555556,
              "#d8576b"
             ],
             [
              0.6666666666666666,
              "#ed7953"
             ],
             [
              0.7777777777777778,
              "#fb9f3a"
             ],
             [
              0.8888888888888888,
              "#fdca26"
             ],
             [
              1,
              "#f0f921"
             ]
            ],
            "type": "histogram2dcontour"
           }
          ],
          "mesh3d": [
           {
            "colorbar": {
             "outlinewidth": 0,
             "ticks": ""
            },
            "type": "mesh3d"
           }
          ],
          "parcoords": [
           {
            "line": {
             "colorbar": {
              "outlinewidth": 0,
              "ticks": ""
             }
            },
            "type": "parcoords"
           }
          ],
          "pie": [
           {
            "automargin": true,
            "type": "pie"
           }
          ],
          "scatter": [
           {
            "fillpattern": {
             "fillmode": "overlay",
             "size": 10,
             "solidity": 0.2
            },
            "type": "scatter"
           }
          ],
          "scatter3d": [
           {
            "line": {
             "colorbar": {
              "outlinewidth": 0,
              "ticks": ""
             }
            },
            "marker": {
             "colorbar": {
              "outlinewidth": 0,
              "ticks": ""
             }
            },
            "type": "scatter3d"
           }
          ],
          "scattercarpet": [
           {
            "marker": {
             "colorbar": {
              "outlinewidth": 0,
              "ticks": ""
             }
            },
            "type": "scattercarpet"
           }
          ],
          "scattergeo": [
           {
            "marker": {
             "colorbar": {
              "outlinewidth": 0,
              "ticks": ""
             }
            },
            "type": "scattergeo"
           }
          ],
          "scattergl": [
           {
            "marker": {
             "colorbar": {
              "outlinewidth": 0,
              "ticks": ""
             }
            },
            "type": "scattergl"
           }
          ],
          "scattermapbox": [
           {
            "marker": {
             "colorbar": {
              "outlinewidth": 0,
              "ticks": ""
             }
            },
            "type": "scattermapbox"
           }
          ],
          "scatterpolar": [
           {
            "marker": {
             "colorbar": {
              "outlinewidth": 0,
              "ticks": ""
             }
            },
            "type": "scatterpolar"
           }
          ],
          "scatterpolargl": [
           {
            "marker": {
             "colorbar": {
              "outlinewidth": 0,
              "ticks": ""
             }
            },
            "type": "scatterpolargl"
           }
          ],
          "scatterternary": [
           {
            "marker": {
             "colorbar": {
              "outlinewidth": 0,
              "ticks": ""
             }
            },
            "type": "scatterternary"
           }
          ],
          "surface": [
           {
            "colorbar": {
             "outlinewidth": 0,
             "ticks": ""
            },
            "colorscale": [
             [
              0,
              "#0d0887"
             ],
             [
              0.1111111111111111,
              "#46039f"
             ],
             [
              0.2222222222222222,
              "#7201a8"
             ],
             [
              0.3333333333333333,
              "#9c179e"
             ],
             [
              0.4444444444444444,
              "#bd3786"
             ],
             [
              0.5555555555555556,
              "#d8576b"
             ],
             [
              0.6666666666666666,
              "#ed7953"
             ],
             [
              0.7777777777777778,
              "#fb9f3a"
             ],
             [
              0.8888888888888888,
              "#fdca26"
             ],
             [
              1,
              "#f0f921"
             ]
            ],
            "type": "surface"
           }
          ],
          "table": [
           {
            "cells": {
             "fill": {
              "color": "#EBF0F8"
             },
             "line": {
              "color": "white"
             }
            },
            "header": {
             "fill": {
              "color": "#C8D4E3"
             },
             "line": {
              "color": "white"
             }
            },
            "type": "table"
           }
          ]
         },
         "layout": {
          "annotationdefaults": {
           "arrowcolor": "#2a3f5f",
           "arrowhead": 0,
           "arrowwidth": 1
          },
          "autotypenumbers": "strict",
          "coloraxis": {
           "colorbar": {
            "outlinewidth": 0,
            "ticks": ""
           }
          },
          "colorscale": {
           "diverging": [
            [
             0,
             "#8e0152"
            ],
            [
             0.1,
             "#c51b7d"
            ],
            [
             0.2,
             "#de77ae"
            ],
            [
             0.3,
             "#f1b6da"
            ],
            [
             0.4,
             "#fde0ef"
            ],
            [
             0.5,
             "#f7f7f7"
            ],
            [
             0.6,
             "#e6f5d0"
            ],
            [
             0.7,
             "#b8e186"
            ],
            [
             0.8,
             "#7fbc41"
            ],
            [
             0.9,
             "#4d9221"
            ],
            [
             1,
             "#276419"
            ]
           ],
           "sequential": [
            [
             0,
             "#0d0887"
            ],
            [
             0.1111111111111111,
             "#46039f"
            ],
            [
             0.2222222222222222,
             "#7201a8"
            ],
            [
             0.3333333333333333,
             "#9c179e"
            ],
            [
             0.4444444444444444,
             "#bd3786"
            ],
            [
             0.5555555555555556,
             "#d8576b"
            ],
            [
             0.6666666666666666,
             "#ed7953"
            ],
            [
             0.7777777777777778,
             "#fb9f3a"
            ],
            [
             0.8888888888888888,
             "#fdca26"
            ],
            [
             1,
             "#f0f921"
            ]
           ],
           "sequentialminus": [
            [
             0,
             "#0d0887"
            ],
            [
             0.1111111111111111,
             "#46039f"
            ],
            [
             0.2222222222222222,
             "#7201a8"
            ],
            [
             0.3333333333333333,
             "#9c179e"
            ],
            [
             0.4444444444444444,
             "#bd3786"
            ],
            [
             0.5555555555555556,
             "#d8576b"
            ],
            [
             0.6666666666666666,
             "#ed7953"
            ],
            [
             0.7777777777777778,
             "#fb9f3a"
            ],
            [
             0.8888888888888888,
             "#fdca26"
            ],
            [
             1,
             "#f0f921"
            ]
           ]
          },
          "colorway": [
           "#636efa",
           "#EF553B",
           "#00cc96",
           "#ab63fa",
           "#FFA15A",
           "#19d3f3",
           "#FF6692",
           "#B6E880",
           "#FF97FF",
           "#FECB52"
          ],
          "font": {
           "color": "#2a3f5f"
          },
          "geo": {
           "bgcolor": "white",
           "lakecolor": "white",
           "landcolor": "#E5ECF6",
           "showlakes": true,
           "showland": true,
           "subunitcolor": "white"
          },
          "hoverlabel": {
           "align": "left"
          },
          "hovermode": "closest",
          "mapbox": {
           "style": "light"
          },
          "paper_bgcolor": "white",
          "plot_bgcolor": "#E5ECF6",
          "polar": {
           "angularaxis": {
            "gridcolor": "white",
            "linecolor": "white",
            "ticks": ""
           },
           "bgcolor": "#E5ECF6",
           "radialaxis": {
            "gridcolor": "white",
            "linecolor": "white",
            "ticks": ""
           }
          },
          "scene": {
           "xaxis": {
            "backgroundcolor": "#E5ECF6",
            "gridcolor": "white",
            "gridwidth": 2,
            "linecolor": "white",
            "showbackground": true,
            "ticks": "",
            "zerolinecolor": "white"
           },
           "yaxis": {
            "backgroundcolor": "#E5ECF6",
            "gridcolor": "white",
            "gridwidth": 2,
            "linecolor": "white",
            "showbackground": true,
            "ticks": "",
            "zerolinecolor": "white"
           },
           "zaxis": {
            "backgroundcolor": "#E5ECF6",
            "gridcolor": "white",
            "gridwidth": 2,
            "linecolor": "white",
            "showbackground": true,
            "ticks": "",
            "zerolinecolor": "white"
           }
          },
          "shapedefaults": {
           "line": {
            "color": "#2a3f5f"
           }
          },
          "ternary": {
           "aaxis": {
            "gridcolor": "white",
            "linecolor": "white",
            "ticks": ""
           },
           "baxis": {
            "gridcolor": "white",
            "linecolor": "white",
            "ticks": ""
           },
           "bgcolor": "#E5ECF6",
           "caxis": {
            "gridcolor": "white",
            "linecolor": "white",
            "ticks": ""
           }
          },
          "title": {
           "x": 0.05
          },
          "xaxis": {
           "automargin": true,
           "gridcolor": "white",
           "linecolor": "white",
           "ticks": "",
           "title": {
            "standoff": 15
           },
           "zerolinecolor": "white",
           "zerolinewidth": 2
          },
          "yaxis": {
           "automargin": true,
           "gridcolor": "white",
           "linecolor": "white",
           "ticks": "",
           "title": {
            "standoff": 15
           },
           "zerolinecolor": "white",
           "zerolinewidth": 2
          }
         }
        },
        "width": 600,
        "yaxis": {
         "title": {
          "text": "Number of parameters"
         }
        }
       }
      }
     },
     "metadata": {},
     "output_type": "display_data"
    }
   ],
   "source": [
    "import plotly.graph_objects as go\n",
    "\n",
    "colors = [\"+\",] * 6\n",
    "\n",
    "fig = go.Figure(data=[go.Bar(\n",
    "    x=['BioNet-LSTM', 'BioNet(XAI)', 'AttUNet-LSTM', 'AttUNet(XAI)', 'UNet-LSTM', 'UNet(XAI)'],\n",
    "    y=[60234946,8420065, 54168494, 7571033, 50325506, 7023385],\n",
    "    text=[60234946,8420065, 54168494, 7571033, 50325506, 7023385],\n",
    "    textposition='outside',\n",
    "    marker_pattern_shape=colors # marker color can be a single color value or an iterable\n",
    ")])\n",
    "fig.update_layout( yaxis_title='Number of parameters',width=600, height=500)\n",
    "\n",
    "fig.write_image('./evaluation_figures/LSTM_vs_XAI_params.pdf')\n",
    "fig.show()"
   ]
  },
  {
   "cell_type": "code",
   "execution_count": 13,
   "metadata": {},
   "outputs": [
    {
     "data": {
      "application/vnd.plotly.v1+json": {
       "config": {
        "plotlyServerURL": "https://plot.ly"
       },
       "data": [
        {
         "error_y": {
          "array": [
           1.99,
           2.11,
           2.36,
           2.81,
           3.16,
           3.44,
           3.68,
           3.01,
           1.71,
           0.96,
           0
          ],
          "type": "data",
          "visible": true
         },
         "line": {
          "width": 4
         },
         "name": "CellPose",
         "type": "scatter",
         "x": [
          0.5,
          0.55,
          0.6,
          0.65,
          0.7,
          0.75,
          0.8,
          0.85,
          0.9,
          0.95,
          1
         ],
         "y": [
          72.22,
          68.84,
          64.72,
          58.93,
          51.91,
          43.1,
          32.64,
          21.29,
          11.33,
          4.6,
          0
         ]
        },
        {
         "error_y": {
          "array": [
           1.31,
           1.31,
           0.98,
           0.75,
           0.42,
           0.82,
           0.96,
           1.18,
           1.03,
           0.17,
           0
          ],
          "type": "data",
          "visible": true
         },
         "line": {
          "width": 4
         },
         "name": "StarDist",
         "type": "scatter",
         "x": [
          0.5,
          0.55,
          0.6,
          0.65,
          0.7,
          0.75,
          0.8,
          0.85,
          0.9,
          0.95,
          1
         ],
         "y": [
          76.04,
          74.74,
          72.52,
          69.11,
          63.42,
          55.03,
          43.33,
          29.25,
          13.07,
          0.41,
          0
         ]
        },
        {
         "error_y": {
          "array": [
           2.47,
           2.75,
           2.91,
           2.8,
           3.15,
           3.48,
           3.61,
           3.44,
           3.01,
           1.83,
           0
          ],
          "type": "data",
          "visible": true
         },
         "line": {
          "dash": "dash",
          "width": 4
         },
         "name": "Ours:Att-Unet(XAI)",
         "type": "scatter",
         "x": [
          0.5,
          0.55,
          0.6,
          0.65,
          0.7,
          0.75,
          0.8,
          0.85,
          0.9,
          0.95,
          1
         ],
         "y": [
          77,
          74.5,
          71.83,
          68.98,
          64.67,
          59.02,
          50.77,
          40.28,
          26.97,
          11.29,
          0
         ]
        }
       ],
       "layout": {
        "autosize": false,
        "height": 500,
        "legend": {
         "x": 0.03,
         "xanchor": "left",
         "y": 0.03,
         "yanchor": "bottom"
        },
        "template": {
         "data": {
          "bar": [
           {
            "error_x": {
             "color": "#2a3f5f"
            },
            "error_y": {
             "color": "#2a3f5f"
            },
            "marker": {
             "line": {
              "color": "#E5ECF6",
              "width": 0.5
             },
             "pattern": {
              "fillmode": "overlay",
              "size": 10,
              "solidity": 0.2
             }
            },
            "type": "bar"
           }
          ],
          "barpolar": [
           {
            "marker": {
             "line": {
              "color": "#E5ECF6",
              "width": 0.5
             },
             "pattern": {
              "fillmode": "overlay",
              "size": 10,
              "solidity": 0.2
             }
            },
            "type": "barpolar"
           }
          ],
          "carpet": [
           {
            "aaxis": {
             "endlinecolor": "#2a3f5f",
             "gridcolor": "white",
             "linecolor": "white",
             "minorgridcolor": "white",
             "startlinecolor": "#2a3f5f"
            },
            "baxis": {
             "endlinecolor": "#2a3f5f",
             "gridcolor": "white",
             "linecolor": "white",
             "minorgridcolor": "white",
             "startlinecolor": "#2a3f5f"
            },
            "type": "carpet"
           }
          ],
          "choropleth": [
           {
            "colorbar": {
             "outlinewidth": 0,
             "ticks": ""
            },
            "type": "choropleth"
           }
          ],
          "contour": [
           {
            "colorbar": {
             "outlinewidth": 0,
             "ticks": ""
            },
            "colorscale": [
             [
              0,
              "#0d0887"
             ],
             [
              0.1111111111111111,
              "#46039f"
             ],
             [
              0.2222222222222222,
              "#7201a8"
             ],
             [
              0.3333333333333333,
              "#9c179e"
             ],
             [
              0.4444444444444444,
              "#bd3786"
             ],
             [
              0.5555555555555556,
              "#d8576b"
             ],
             [
              0.6666666666666666,
              "#ed7953"
             ],
             [
              0.7777777777777778,
              "#fb9f3a"
             ],
             [
              0.8888888888888888,
              "#fdca26"
             ],
             [
              1,
              "#f0f921"
             ]
            ],
            "type": "contour"
           }
          ],
          "contourcarpet": [
           {
            "colorbar": {
             "outlinewidth": 0,
             "ticks": ""
            },
            "type": "contourcarpet"
           }
          ],
          "heatmap": [
           {
            "colorbar": {
             "outlinewidth": 0,
             "ticks": ""
            },
            "colorscale": [
             [
              0,
              "#0d0887"
             ],
             [
              0.1111111111111111,
              "#46039f"
             ],
             [
              0.2222222222222222,
              "#7201a8"
             ],
             [
              0.3333333333333333,
              "#9c179e"
             ],
             [
              0.4444444444444444,
              "#bd3786"
             ],
             [
              0.5555555555555556,
              "#d8576b"
             ],
             [
              0.6666666666666666,
              "#ed7953"
             ],
             [
              0.7777777777777778,
              "#fb9f3a"
             ],
             [
              0.8888888888888888,
              "#fdca26"
             ],
             [
              1,
              "#f0f921"
             ]
            ],
            "type": "heatmap"
           }
          ],
          "heatmapgl": [
           {
            "colorbar": {
             "outlinewidth": 0,
             "ticks": ""
            },
            "colorscale": [
             [
              0,
              "#0d0887"
             ],
             [
              0.1111111111111111,
              "#46039f"
             ],
             [
              0.2222222222222222,
              "#7201a8"
             ],
             [
              0.3333333333333333,
              "#9c179e"
             ],
             [
              0.4444444444444444,
              "#bd3786"
             ],
             [
              0.5555555555555556,
              "#d8576b"
             ],
             [
              0.6666666666666666,
              "#ed7953"
             ],
             [
              0.7777777777777778,
              "#fb9f3a"
             ],
             [
              0.8888888888888888,
              "#fdca26"
             ],
             [
              1,
              "#f0f921"
             ]
            ],
            "type": "heatmapgl"
           }
          ],
          "histogram": [
           {
            "marker": {
             "pattern": {
              "fillmode": "overlay",
              "size": 10,
              "solidity": 0.2
             }
            },
            "type": "histogram"
           }
          ],
          "histogram2d": [
           {
            "colorbar": {
             "outlinewidth": 0,
             "ticks": ""
            },
            "colorscale": [
             [
              0,
              "#0d0887"
             ],
             [
              0.1111111111111111,
              "#46039f"
             ],
             [
              0.2222222222222222,
              "#7201a8"
             ],
             [
              0.3333333333333333,
              "#9c179e"
             ],
             [
              0.4444444444444444,
              "#bd3786"
             ],
             [
              0.5555555555555556,
              "#d8576b"
             ],
             [
              0.6666666666666666,
              "#ed7953"
             ],
             [
              0.7777777777777778,
              "#fb9f3a"
             ],
             [
              0.8888888888888888,
              "#fdca26"
             ],
             [
              1,
              "#f0f921"
             ]
            ],
            "type": "histogram2d"
           }
          ],
          "histogram2dcontour": [
           {
            "colorbar": {
             "outlinewidth": 0,
             "ticks": ""
            },
            "colorscale": [
             [
              0,
              "#0d0887"
             ],
             [
              0.1111111111111111,
              "#46039f"
             ],
             [
              0.2222222222222222,
              "#7201a8"
             ],
             [
              0.3333333333333333,
              "#9c179e"
             ],
             [
              0.4444444444444444,
              "#bd3786"
             ],
             [
              0.5555555555555556,
              "#d8576b"
             ],
             [
              0.6666666666666666,
              "#ed7953"
             ],
             [
              0.7777777777777778,
              "#fb9f3a"
             ],
             [
              0.8888888888888888,
              "#fdca26"
             ],
             [
              1,
              "#f0f921"
             ]
            ],
            "type": "histogram2dcontour"
           }
          ],
          "mesh3d": [
           {
            "colorbar": {
             "outlinewidth": 0,
             "ticks": ""
            },
            "type": "mesh3d"
           }
          ],
          "parcoords": [
           {
            "line": {
             "colorbar": {
              "outlinewidth": 0,
              "ticks": ""
             }
            },
            "type": "parcoords"
           }
          ],
          "pie": [
           {
            "automargin": true,
            "type": "pie"
           }
          ],
          "scatter": [
           {
            "fillpattern": {
             "fillmode": "overlay",
             "size": 10,
             "solidity": 0.2
            },
            "type": "scatter"
           }
          ],
          "scatter3d": [
           {
            "line": {
             "colorbar": {
              "outlinewidth": 0,
              "ticks": ""
             }
            },
            "marker": {
             "colorbar": {
              "outlinewidth": 0,
              "ticks": ""
             }
            },
            "type": "scatter3d"
           }
          ],
          "scattercarpet": [
           {
            "marker": {
             "colorbar": {
              "outlinewidth": 0,
              "ticks": ""
             }
            },
            "type": "scattercarpet"
           }
          ],
          "scattergeo": [
           {
            "marker": {
             "colorbar": {
              "outlinewidth": 0,
              "ticks": ""
             }
            },
            "type": "scattergeo"
           }
          ],
          "scattergl": [
           {
            "marker": {
             "colorbar": {
              "outlinewidth": 0,
              "ticks": ""
             }
            },
            "type": "scattergl"
           }
          ],
          "scattermapbox": [
           {
            "marker": {
             "colorbar": {
              "outlinewidth": 0,
              "ticks": ""
             }
            },
            "type": "scattermapbox"
           }
          ],
          "scatterpolar": [
           {
            "marker": {
             "colorbar": {
              "outlinewidth": 0,
              "ticks": ""
             }
            },
            "type": "scatterpolar"
           }
          ],
          "scatterpolargl": [
           {
            "marker": {
             "colorbar": {
              "outlinewidth": 0,
              "ticks": ""
             }
            },
            "type": "scatterpolargl"
           }
          ],
          "scatterternary": [
           {
            "marker": {
             "colorbar": {
              "outlinewidth": 0,
              "ticks": ""
             }
            },
            "type": "scatterternary"
           }
          ],
          "surface": [
           {
            "colorbar": {
             "outlinewidth": 0,
             "ticks": ""
            },
            "colorscale": [
             [
              0,
              "#0d0887"
             ],
             [
              0.1111111111111111,
              "#46039f"
             ],
             [
              0.2222222222222222,
              "#7201a8"
             ],
             [
              0.3333333333333333,
              "#9c179e"
             ],
             [
              0.4444444444444444,
              "#bd3786"
             ],
             [
              0.5555555555555556,
              "#d8576b"
             ],
             [
              0.6666666666666666,
              "#ed7953"
             ],
             [
              0.7777777777777778,
              "#fb9f3a"
             ],
             [
              0.8888888888888888,
              "#fdca26"
             ],
             [
              1,
              "#f0f921"
             ]
            ],
            "type": "surface"
           }
          ],
          "table": [
           {
            "cells": {
             "fill": {
              "color": "#EBF0F8"
             },
             "line": {
              "color": "white"
             }
            },
            "header": {
             "fill": {
              "color": "#C8D4E3"
             },
             "line": {
              "color": "white"
             }
            },
            "type": "table"
           }
          ]
         },
         "layout": {
          "annotationdefaults": {
           "arrowcolor": "#2a3f5f",
           "arrowhead": 0,
           "arrowwidth": 1
          },
          "autotypenumbers": "strict",
          "coloraxis": {
           "colorbar": {
            "outlinewidth": 0,
            "ticks": ""
           }
          },
          "colorscale": {
           "diverging": [
            [
             0,
             "#8e0152"
            ],
            [
             0.1,
             "#c51b7d"
            ],
            [
             0.2,
             "#de77ae"
            ],
            [
             0.3,
             "#f1b6da"
            ],
            [
             0.4,
             "#fde0ef"
            ],
            [
             0.5,
             "#f7f7f7"
            ],
            [
             0.6,
             "#e6f5d0"
            ],
            [
             0.7,
             "#b8e186"
            ],
            [
             0.8,
             "#7fbc41"
            ],
            [
             0.9,
             "#4d9221"
            ],
            [
             1,
             "#276419"
            ]
           ],
           "sequential": [
            [
             0,
             "#0d0887"
            ],
            [
             0.1111111111111111,
             "#46039f"
            ],
            [
             0.2222222222222222,
             "#7201a8"
            ],
            [
             0.3333333333333333,
             "#9c179e"
            ],
            [
             0.4444444444444444,
             "#bd3786"
            ],
            [
             0.5555555555555556,
             "#d8576b"
            ],
            [
             0.6666666666666666,
             "#ed7953"
            ],
            [
             0.7777777777777778,
             "#fb9f3a"
            ],
            [
             0.8888888888888888,
             "#fdca26"
            ],
            [
             1,
             "#f0f921"
            ]
           ],
           "sequentialminus": [
            [
             0,
             "#0d0887"
            ],
            [
             0.1111111111111111,
             "#46039f"
            ],
            [
             0.2222222222222222,
             "#7201a8"
            ],
            [
             0.3333333333333333,
             "#9c179e"
            ],
            [
             0.4444444444444444,
             "#bd3786"
            ],
            [
             0.5555555555555556,
             "#d8576b"
            ],
            [
             0.6666666666666666,
             "#ed7953"
            ],
            [
             0.7777777777777778,
             "#fb9f3a"
            ],
            [
             0.8888888888888888,
             "#fdca26"
            ],
            [
             1,
             "#f0f921"
            ]
           ]
          },
          "colorway": [
           "#636efa",
           "#EF553B",
           "#00cc96",
           "#ab63fa",
           "#FFA15A",
           "#19d3f3",
           "#FF6692",
           "#B6E880",
           "#FF97FF",
           "#FECB52"
          ],
          "font": {
           "color": "#2a3f5f"
          },
          "geo": {
           "bgcolor": "white",
           "lakecolor": "white",
           "landcolor": "#E5ECF6",
           "showlakes": true,
           "showland": true,
           "subunitcolor": "white"
          },
          "hoverlabel": {
           "align": "left"
          },
          "hovermode": "closest",
          "mapbox": {
           "style": "light"
          },
          "paper_bgcolor": "white",
          "plot_bgcolor": "#E5ECF6",
          "polar": {
           "angularaxis": {
            "gridcolor": "white",
            "linecolor": "white",
            "ticks": ""
           },
           "bgcolor": "#E5ECF6",
           "radialaxis": {
            "gridcolor": "white",
            "linecolor": "white",
            "ticks": ""
           }
          },
          "scene": {
           "xaxis": {
            "backgroundcolor": "#E5ECF6",
            "gridcolor": "white",
            "gridwidth": 2,
            "linecolor": "white",
            "showbackground": true,
            "ticks": "",
            "zerolinecolor": "white"
           },
           "yaxis": {
            "backgroundcolor": "#E5ECF6",
            "gridcolor": "white",
            "gridwidth": 2,
            "linecolor": "white",
            "showbackground": true,
            "ticks": "",
            "zerolinecolor": "white"
           },
           "zaxis": {
            "backgroundcolor": "#E5ECF6",
            "gridcolor": "white",
            "gridwidth": 2,
            "linecolor": "white",
            "showbackground": true,
            "ticks": "",
            "zerolinecolor": "white"
           }
          },
          "shapedefaults": {
           "line": {
            "color": "#2a3f5f"
           }
          },
          "ternary": {
           "aaxis": {
            "gridcolor": "white",
            "linecolor": "white",
            "ticks": ""
           },
           "baxis": {
            "gridcolor": "white",
            "linecolor": "white",
            "ticks": ""
           },
           "bgcolor": "#E5ECF6",
           "caxis": {
            "gridcolor": "white",
            "linecolor": "white",
            "ticks": ""
           }
          },
          "title": {
           "x": 0.05
          },
          "xaxis": {
           "automargin": true,
           "gridcolor": "white",
           "linecolor": "white",
           "ticks": "",
           "title": {
            "standoff": 15
           },
           "zerolinecolor": "white",
           "zerolinewidth": 2
          },
          "yaxis": {
           "automargin": true,
           "gridcolor": "white",
           "linecolor": "white",
           "ticks": "",
           "title": {
            "standoff": 15
           },
           "zerolinecolor": "white",
           "zerolinewidth": 2
          }
         }
        },
        "width": 1200,
        "xaxis": {
         "range": [
          0.49,
          1
         ],
         "title": {
          "text": "IoU threshold"
         }
        },
        "yaxis": {
         "range": [
          0,
          100
         ],
         "title": {
          "text": "Accuracy score"
         }
        }
       }
      }
     },
     "metadata": {},
     "output_type": "display_data"
    }
   ],
   "source": [
    "\n",
    "cellpose_idx = df_metrics_f1['methods']=='Cellpose'\n",
    "stardist_idx = df_metrics_f1['methods']=='Stardist'\n",
    "\n",
    "lstm_bio_idx = df_metrics_f1['methods']=='LSTM-BioNet'\n",
    "xai_bio_idx = df_metrics_f1['methods'] =='BioNet(XAI)'\n",
    "\n",
    "lstm_attunet_idx = df_metrics_f1['methods']=='AttUNet-LSTM'\n",
    "xai_attunet_idx = df_metrics_f1['methods'] =='AttUNet(XAI)'\n",
    "\n",
    "lstm_unet_idx = df_metrics_f1['methods']=='UNet-LSTM'\n",
    "xai_unet_idx = df_metrics_f1['methods'] =='UNet(XAI)'\n",
    "\n",
    "fig = go.Figure()\n",
    "\n",
    "fig.add_trace(go.Scatter(x=list(df_metrics_f1[cellpose_idx]['IoU threshold']), y=list(df_metrics_f1[cellpose_idx]['Accuracy score']), name='CellPose', line = dict(width=4)\n",
    "            , error_y=dict(type='data',array=list(df_metrics_f1[cellpose_idx]['Accuracy score (std)']),visible=True)))\n",
    "\n",
    "fig.add_trace(go.Scatter(x=list(df_metrics_f1[stardist_idx]['IoU threshold']), y=list(df_metrics_f1[stardist_idx]['Accuracy score']), name='StarDist', line = dict(width=4)\n",
    "            , error_y=dict(type='data',array=list(df_metrics_f1[stardist_idx]['Accuracy score (std)']),visible=True)))\n",
    "\n",
    "fig.add_trace(go.Scatter(x=list(df_metrics_f1[xai_attunet_idx]['IoU threshold']), y=list(df_metrics_f1[xai_attunet_idx]['Accuracy score']), name='Ours:Att-Unet(XAI)', line = dict(width=4, dash='dash')\n",
    "               , error_y=dict(type='data',array=list(df_metrics_f1[xai_attunet_idx]['Accuracy score (std)']),visible=True)))\n",
    "\n",
    "fig.update_yaxes(range=(0, 100))\n",
    "fig.update_xaxes(range=(0.49, 1))\n",
    "fig.update_layout( # title='The influence of the IoU threshold on F1 score',\n",
    "                   xaxis_title='IoU threshold',\n",
    "                   yaxis_title='Accuracy score',\n",
    "                   autosize=False,\n",
    "                   width=1200,\n",
    "                   height=500,\n",
    "                   legend=dict(\n",
    "                   yanchor=\"bottom\",\n",
    "                   y=0.03,\n",
    "                   xanchor=\"left\",\n",
    "                   x=0.03\n",
    "))\n",
    "fig.write_image(\"./evaluation_figures/accuracy_score.pdf\")\n",
    "fig.show()"
   ]
  }
 ],
 "metadata": {
  "kernelspec": {
   "display_name": "Python 3.8.12 ('torch')",
   "language": "python",
   "name": "python3"
  },
  "language_info": {
   "codemirror_mode": {
    "name": "ipython",
    "version": 3
   },
   "file_extension": ".py",
   "mimetype": "text/x-python",
   "name": "python",
   "nbconvert_exporter": "python",
   "pygments_lexer": "ipython3",
   "version": "3.8.12"
  },
  "orig_nbformat": 4,
  "vscode": {
   "interpreter": {
    "hash": "cda4a21563fee4ef040e111ba08d67f557d5f1aaae47b2670e132825dd9bda0f"
   }
  }
 },
 "nbformat": 4,
 "nbformat_minor": 2
}
