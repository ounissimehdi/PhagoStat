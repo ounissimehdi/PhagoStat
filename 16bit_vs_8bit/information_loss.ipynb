{
 "cells": [
  {
   "cell_type": "code",
   "execution_count": 1,
   "metadata": {},
   "outputs": [
    {
     "name": "stdout",
     "output_type": "stream",
     "text": [
      "MSE: Mean = 1.3698370351271655e-06, Std = 5.59036273515446e-08\n",
      "PSNR: Mean = 58.63686088060013, Std = 0.1747973327986176\n",
      "SSIM: Mean = 0.9996486760005486, Std = 2.2954554874424678e-05\n"
     ]
    }
   ],
   "source": [
    "import numpy as np\n",
    "from skimage.metrics import mean_squared_error, peak_signal_noise_ratio, structural_similarity\n",
    "from skimage import img_as_ubyte\n",
    "from natsort import natsorted\n",
    "from skimage import exposure\n",
    "from PIL import Image\n",
    "from glob import glob\n",
    "import os\n",
    "\n",
    "def convert_to_8bit(image):\n",
    "    \"\"\"\n",
    "    Converts a 16-bit image to an 8-bit image.\n",
    "    \"\"\"\n",
    "    image = rescale_image(image, 16)\n",
    "    return img_as_ubyte(image)\n",
    "\n",
    "def rescale_image(image, bit_depth):\n",
    "    \"\"\"\n",
    "    Rescales the image based on its bit depth.\n",
    "    \"\"\"\n",
    "    return image / (2 ** bit_depth)\n",
    "\n",
    "def calculate_metrics(rescaled_16bit, image_8bit):\n",
    "    \"\"\"\n",
    "    Calculates MSE, PSNR, and SSIM between the original 16-bit and scaled 8-bit images.\n",
    "    \"\"\"\n",
    "    mse = mean_squared_error(rescaled_16bit, image_8bit)\n",
    "    psnr = peak_signal_noise_ratio(rescaled_16bit, image_8bit)\n",
    "    ssim = structural_similarity(rescaled_16bit, image_8bit)\n",
    "\n",
    "    return mse, psnr, ssim\n",
    "\n",
    "# Get all 16-bit images paths\n",
    "images_16bit  = natsorted(glob(os.path.join('dataset', 'Fluo-N2DL-HeLa', '01', '*.tif')))\n",
    "images_16bit += natsorted(glob(os.path.join('dataset', 'Fluo-N2DL-HeLa', '02', '*.tif')))\n",
    "\n",
    "# Metrics storage\n",
    "mses, psnrs, ssims = [], [], []\n",
    "\n",
    "# Process each image\n",
    "for image_path in images_16bit:\n",
    "    image_16bit = exposure.rescale_intensity(np.array(Image.open(image_path)), out_range=np.uint16)\n",
    "    image_8bit = rescale_image(convert_to_8bit(image_16bit), 8)\n",
    "\n",
    "    rescaled_16bit = rescale_image(image_16bit, 16)\n",
    "\n",
    "    mse, psnr, ssim = calculate_metrics(rescaled_16bit, image_8bit)\n",
    "    mses.append(mse)\n",
    "    psnrs.append(psnr)\n",
    "    ssims.append(ssim)\n",
    "\n",
    "# Calculating mean and standard deviation for each metric\n",
    "mse_mean, mse_std = np.mean(mses), np.std(mses)\n",
    "psnr_mean, psnr_std = np.mean(psnrs), np.std(psnrs)\n",
    "ssim_mean, ssim_std = np.mean(ssims), np.std(ssims)\n",
    "\n",
    "print(f\"MSE: Mean = {mse_mean}, Std = {mse_std}\")\n",
    "print(f\"PSNR: Mean = {psnr_mean}, Std = {psnr_std}\")\n",
    "print(f\"SSIM: Mean = {ssim_mean}, Std = {ssim_std}\")\n"
   ]
  }
 ],
 "metadata": {
  "kernelspec": {
   "display_name": "torch",
   "language": "python",
   "name": "python3"
  },
  "language_info": {
   "codemirror_mode": {
    "name": "ipython",
    "version": 3
   },
   "file_extension": ".py",
   "mimetype": "text/x-python",
   "name": "python",
   "nbconvert_exporter": "python",
   "pygments_lexer": "ipython3",
   "version": "3.8.13"
  }
 },
 "nbformat": 4,
 "nbformat_minor": 2
}
