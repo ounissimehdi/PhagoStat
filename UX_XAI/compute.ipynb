{
 "cells": [
  {
   "cell_type": "code",
   "execution_count": 1,
   "metadata": {},
   "outputs": [
    {
     "name": "stdout",
     "output_type": "stream",
     "text": [
      "cell_count_14 done!\n",
      "cell_count_16 done!\n",
      "cell_count_20 done!\n",
      "cell_count_22 done!\n",
      "cell_count_24 done!\n",
      "cell_count_26 done!\n",
      "cell_count_28 done!\n",
      "cell_count_30 done!\n",
      "cell_count_32 done!\n",
      "cell_count_34 done!\n",
      "cell_count_36 done!\n",
      "cell_count_38 done!\n",
      "cell_count_40 done!\n"
     ]
    }
   ],
   "source": [
    "import os\n",
    "import subprocess\n",
    "from natsort import natsorted\n",
    "\n",
    "# Path to the .datasets directory\n",
    "datasets_dir = './datasets'\n",
    "\n",
    "# Iterate over directories inside .datasets\n",
    "for cell_count_dataset in natsorted(os.listdir(datasets_dir)):\n",
    "    dataset_path = os.path.join(datasets_dir, cell_count_dataset)\n",
    "\n",
    "    # Check if it's a directory\n",
    "    if os.path.isdir(dataset_path):\n",
    "        # Construct the command\n",
    "        command = [\n",
    "            'python', 'main_attunet.py',\n",
    "            '--dataset', cell_count_dataset,\n",
    "            '--batch_size', '6',\n",
    "            '--lr', '0.001',\n",
    "            '--n_epoch', '0',\n",
    "            '--n_warm', '500'\n",
    "        ]\n",
    "\n",
    "        # Run the command\n",
    "        subprocess.run(command)\n",
    "\n",
    "        print(cell_count_dataset+' done!')\n",
    "    # break"
   ]
  },
  {
   "cell_type": "code",
   "execution_count": 3,
   "metadata": {},
   "outputs": [
    {
     "name": "stdout",
     "output_type": "stream",
     "text": [
      "cell_count_14: model done!\n",
      "cell_count_16: model done!\n",
      "cell_count_20: model done!\n",
      "cell_count_22: model done!\n",
      "cell_count_24: model done!\n",
      "cell_count_26: model done!\n",
      "cell_count_28: model done!\n",
      "cell_count_30: model done!\n",
      "cell_count_32: model done!\n",
      "cell_count_34: model done!\n",
      "cell_count_36: model done!\n",
      "cell_count_38: model done!\n",
      "cell_count_40: model done!\n"
     ]
    }
   ],
   "source": [
    "import os\n",
    "import subprocess\n",
    "from natsort import natsorted\n",
    "\n",
    "\n",
    "# Path to the .datasets directory\n",
    "datasets_dir = './datasets'\n",
    "models_dir = './experiments_no_aug'\n",
    "\n",
    "# Iterate over directories inside .datasets\n",
    "for cell_count_dataset in natsorted(os.listdir(datasets_dir)):\n",
    "    dataset_path = os.path.join(datasets_dir, cell_count_dataset)\n",
    "\n",
    "    # Iterate over directories inside .datasets\n",
    "    for cell_count_model in natsorted(os.listdir(models_dir)):\n",
    "        # Check if it's a directory\n",
    "        if os.path.isdir(dataset_path):\n",
    "            # Construct the command\n",
    "            command = [\n",
    "                'python', 'gen_RES_test.py',\n",
    "                '--input_seq', './datasets/' + cell_count_dataset + '/test/images',\n",
    "                '--output_seq', './results_no_aug/model_' + cell_count_model + '/'+ cell_count_dataset,\n",
    "                '--model_path', './experiments_no_aug/' + cell_count_model + '/ckpts/*.pth',\n",
    "            ]\n",
    "\n",
    "            # Run the command\n",
    "            subprocess.run(command)\n",
    "    print(cell_count_dataset+': model done!')\n"
   ]
  }
 ],
 "metadata": {
  "kernelspec": {
   "display_name": "phagostat",
   "language": "python",
   "name": "python3"
  },
  "language_info": {
   "codemirror_mode": {
    "name": "ipython",
    "version": 3
   },
   "file_extension": ".py",
   "mimetype": "text/x-python",
   "name": "python",
   "nbconvert_exporter": "python",
   "pygments_lexer": "ipython3",
   "version": "3.8.13"
  }
 },
 "nbformat": 4,
 "nbformat_minor": 2
}
